{
 "cells": [
  {
   "cell_type": "markdown",
   "id": "f2c51de8",
   "metadata": {},
   "source": [
    "<div align=\"center\" dir=\"auto\">\n",
    "<p dir=\"auto\"><a href=\"https://colab.research.google.com/github/encord-team/encord-notebooks/blob/main/colab-notebooks/Micromodels-generate-detection-predictions.ipynb\" target=\"_parent\"><img src=\"https://colab.research.google.com/assets/colab-badge.svg\" alt=\"Open In Colab\"/></a>\n",
    "<div align=\"center\" dir=\"auto\">\n",
    "  <div style=\"flex: 1; padding: 10px;\">\n",
    "    <a href=\"https://join.slack.com/t/encordactive/shared_invite/zt-1hc2vqur9-Fzj1EEAHoqu91sZ0CX0A7Q\" target=\"_blank\" style=\"text-decoration:none\">\n",
    "      <img alt=\"Join us on Slack\" src=\"https://img.shields.io/badge/Join_Our_Community-4A154B?label=&logo=slack&logoColor=white\">\n",
    "    </a>\n",
    "    <a href=\"https://docs.encord.com/docs/active-overview\" target=\"_blank\" style=\"text-decoration:none\">\n",
    "      <img alt=\"Documentation\" src=\"https://img.shields.io/badge/docs-Online-blue\">\n",
    "    </a>\n",
    "    <a href=\"https://twitter.com/encord_team\" target=\"_blank\" style=\"text-decoration:none\">\n",
    "      <img alt=\"Twitter Follow\" src=\"https://img.shields.io/twitter/follow/encord_team?label=%40encord_team&amp;style=social\">\n",
    "    </a>\n",
    "    <img alt=\"Python versions\" src=\"https://img.shields.io/pypi/pyversions/encord-active\">\n",
    "    <a href=\"https://pypi.org/project/encord-active/\" target=\"_blank\" style=\"text-decoration:none\">\n",
    "      <img alt=\"PyPi project\" src=\"https://img.shields.io/pypi/v/encord-active\">\n",
    "    </a>\n",
    "    <a href=\"https://docs.encord.com/docs/active-contributing\" target=\"_blank\" style=\"text-decoration:none\">\n",
    "      <img alt=\"PRs Welcome\" src=\"https://img.shields.io/badge/PRs-Welcome-blue\">\n",
    "    </a>\n",
    "    <img alt=\"Licence\" src=\"https://img.shields.io/github/license/encord-team/encord-active\">\n",
    "  </div>\n",
    "</div>"
   ]
  },
  {
   "cell_type": "markdown",
   "id": "42aff7dd",
   "metadata": {},
   "source": [
    "<div align=\"center\">\n",
    "  <p>\n",
    "    <a align=\"center\" href=\"\" target=\"_blank\">\n",
    "      <img\n",
    "        width=\"7232\"\n",
    "        src=\"https://storage.googleapis.com/encord-notebooks/encord_active_notebook_banner.png\">\n",
    "    </a>\n",
    "  </p>\n",
    "</div>"
   ]
  },
  {
   "cell_type": "markdown",
   "id": "f5c93a7a-b96f-4af5-8679-0e41c0049b3a",
   "metadata": {},
   "source": [
    "# 🟣 Encord Notebooks | Generate Encord Active Model Predictions Using Encord Micro-Models"
   ]
  },
  {
   "cell_type": "markdown",
   "id": "4ba32d53-3163-4805-b0a7-c09e3e092a8c",
   "metadata": {},
   "source": [
    "#### Note-1: Ontologies of the Encord Active and Encord Annotate should be the same\n",
    "#### Note-2: The data of the local Encord Active project should have been downloaded via the following CLI command:\n",
    "\n",
    "```shell\n",
    "encord-active project download-data\n",
    "```\n"
   ]
  },
  {
   "cell_type": "markdown",
   "id": "88497141-7594-4c5a-b868-06e0f08d909d",
   "metadata": {},
   "source": [
    "## Set parameters"
   ]
  },
  {
   "cell_type": "code",
   "execution_count": 1,
   "id": "0a5c2d5d-c3f5-41ad-8180-0881aa34b673",
   "metadata": {
    "ExecuteTime": {
     "end_time": "2023-07-05T14:58:22.855299Z",
     "start_time": "2023-07-05T14:58:22.851032Z"
    }
   },
   "outputs": [],
   "source": [
    "ENCORD_ACTIVE_PROJECT_PATH='/path/to/local/encord_active/project'\n",
    "ENCORD_SSH_KEY_PATH='ENCORD_SSH_KEY_PATH'\n",
    "ENCORD_PROJECT_HASH='ENCORD_PROJECT_HASH'\n",
    "ENCORD_MODEL_ITERATION_HASH='ENCORD_MODEL_ITERATION_HASH'\n",
    "\n",
    "BATCH_SIZE=24\n",
    "CONFIDENCE_THRESHOLD=0.6\n",
    "IOU_THRESHOLD=0.3"
   ]
  },
  {
   "cell_type": "markdown",
   "id": "3e81909a-901a-413e-b390-7eea91ed8062",
   "metadata": {},
   "source": [
    "## Import libraries"
   ]
  },
  {
   "cell_type": "code",
   "execution_count": 2,
   "id": "281f2583-f422-4667-8661-b0ad982148bf",
   "metadata": {
    "ExecuteTime": {
     "end_time": "2023-07-05T14:58:23.699768Z",
     "start_time": "2023-07-05T14:58:22.859255Z"
    }
   },
   "outputs": [
    {
     "name": "stderr",
     "output_type": "stream",
     "text": [
      "/opt/anaconda3/envs/ea_examples/lib/python3.10/site-packages/tqdm/auto.py:21: TqdmWarning: IProgress not found. Please update jupyter and ipywidgets. See https://ipywidgets.readthedocs.io/en/stable/user_install.html\n",
      "  from .autonotebook import tqdm as notebook_tqdm\n"
     ]
    }
   ],
   "source": [
    "import os\n",
    "import json\n",
    "import pickle\n",
    "from pathlib import Path\n",
    "\n",
    "from encord.constants.enums import DataType\n",
    "\n",
    "from encord import EncordUserClient, Project\n",
    "from tqdm import tqdm\n",
    "from encord_active.lib.common.data_utils import url_to_file_path\n",
    "from encord_active.lib.db.connection import PrismaConnection\n",
    "from encord_active.lib.db.predictions import (\n",
    "    BoundingBox,\n",
    "    Format,\n",
    "    ObjectDetection,\n",
    "    Prediction,\n",
    ")\n",
    "from encord_active.lib.project.project_file_structure import ProjectFileStructure"
   ]
  },
  {
   "cell_type": "code",
   "execution_count": 3,
   "id": "64d4783b-48f8-409f-b76d-d6022f22aa4c",
   "metadata": {
    "ExecuteTime": {
     "end_time": "2023-07-05T14:58:24.153757Z",
     "start_time": "2023-07-05T14:58:23.708689Z"
    }
   },
   "outputs": [
    {
     "ename": "FileNotFoundError",
     "evalue": "[Errno 2] No such file or directory: 'ENCORD_SSH_KEY_PATH'",
     "output_type": "error",
     "traceback": [
      "\u001b[0;31m---------------------------------------------------------------------------\u001b[0m",
      "\u001b[0;31mFileNotFoundError\u001b[0m                         Traceback (most recent call last)",
      "Cell \u001b[0;32mIn[3], line 1\u001b[0m\n\u001b[0;32m----> 1\u001b[0m user_client \u001b[38;5;241m=\u001b[39m EncordUserClient\u001b[38;5;241m.\u001b[39mcreate_with_ssh_private_key(\u001b[43mPath\u001b[49m\u001b[43m(\u001b[49m\u001b[43mENCORD_SSH_KEY_PATH\u001b[49m\u001b[43m)\u001b[49m\u001b[38;5;241;43m.\u001b[39;49m\u001b[43mexpanduser\u001b[49m\u001b[43m(\u001b[49m\u001b[43m)\u001b[49m\u001b[38;5;241;43m.\u001b[39;49m\u001b[43mread_text\u001b[49m\u001b[43m(\u001b[49m\u001b[43m)\u001b[49m)\n\u001b[1;32m      2\u001b[0m project: Project \u001b[38;5;241m=\u001b[39m user_client\u001b[38;5;241m.\u001b[39mget_project(ENCORD_PROJECT_HASH)\n\u001b[1;32m      4\u001b[0m ea_project_fs: ProjectFileStructure \u001b[38;5;241m=\u001b[39m ProjectFileStructure(ENCORD_ACTIVE_PROJECT_PATH)\n",
      "File \u001b[0;32m/opt/anaconda3/envs/ea_examples/lib/python3.10/pathlib.py:1134\u001b[0m, in \u001b[0;36mPath.read_text\u001b[0;34m(self, encoding, errors)\u001b[0m\n\u001b[1;32m   1130\u001b[0m \u001b[38;5;250m\u001b[39m\u001b[38;5;124;03m\"\"\"\u001b[39;00m\n\u001b[1;32m   1131\u001b[0m \u001b[38;5;124;03mOpen the file in text mode, read it, and close the file.\u001b[39;00m\n\u001b[1;32m   1132\u001b[0m \u001b[38;5;124;03m\"\"\"\u001b[39;00m\n\u001b[1;32m   1133\u001b[0m encoding \u001b[38;5;241m=\u001b[39m io\u001b[38;5;241m.\u001b[39mtext_encoding(encoding)\n\u001b[0;32m-> 1134\u001b[0m \u001b[38;5;28;01mwith\u001b[39;00m \u001b[38;5;28;43mself\u001b[39;49m\u001b[38;5;241;43m.\u001b[39;49m\u001b[43mopen\u001b[49m\u001b[43m(\u001b[49m\u001b[43mmode\u001b[49m\u001b[38;5;241;43m=\u001b[39;49m\u001b[38;5;124;43m'\u001b[39;49m\u001b[38;5;124;43mr\u001b[39;49m\u001b[38;5;124;43m'\u001b[39;49m\u001b[43m,\u001b[49m\u001b[43m \u001b[49m\u001b[43mencoding\u001b[49m\u001b[38;5;241;43m=\u001b[39;49m\u001b[43mencoding\u001b[49m\u001b[43m,\u001b[49m\u001b[43m \u001b[49m\u001b[43merrors\u001b[49m\u001b[38;5;241;43m=\u001b[39;49m\u001b[43merrors\u001b[49m\u001b[43m)\u001b[49m \u001b[38;5;28;01mas\u001b[39;00m f:\n\u001b[1;32m   1135\u001b[0m     \u001b[38;5;28;01mreturn\u001b[39;00m f\u001b[38;5;241m.\u001b[39mread()\n",
      "File \u001b[0;32m/opt/anaconda3/envs/ea_examples/lib/python3.10/pathlib.py:1119\u001b[0m, in \u001b[0;36mPath.open\u001b[0;34m(self, mode, buffering, encoding, errors, newline)\u001b[0m\n\u001b[1;32m   1117\u001b[0m \u001b[38;5;28;01mif\u001b[39;00m \u001b[38;5;124m\"\u001b[39m\u001b[38;5;124mb\u001b[39m\u001b[38;5;124m\"\u001b[39m \u001b[38;5;129;01mnot\u001b[39;00m \u001b[38;5;129;01min\u001b[39;00m mode:\n\u001b[1;32m   1118\u001b[0m     encoding \u001b[38;5;241m=\u001b[39m io\u001b[38;5;241m.\u001b[39mtext_encoding(encoding)\n\u001b[0;32m-> 1119\u001b[0m \u001b[38;5;28;01mreturn\u001b[39;00m \u001b[38;5;28;43mself\u001b[39;49m\u001b[38;5;241;43m.\u001b[39;49m\u001b[43m_accessor\u001b[49m\u001b[38;5;241;43m.\u001b[39;49m\u001b[43mopen\u001b[49m\u001b[43m(\u001b[49m\u001b[38;5;28;43mself\u001b[39;49m\u001b[43m,\u001b[49m\u001b[43m \u001b[49m\u001b[43mmode\u001b[49m\u001b[43m,\u001b[49m\u001b[43m \u001b[49m\u001b[43mbuffering\u001b[49m\u001b[43m,\u001b[49m\u001b[43m \u001b[49m\u001b[43mencoding\u001b[49m\u001b[43m,\u001b[49m\u001b[43m \u001b[49m\u001b[43merrors\u001b[49m\u001b[43m,\u001b[49m\n\u001b[1;32m   1120\u001b[0m \u001b[43m                           \u001b[49m\u001b[43mnewline\u001b[49m\u001b[43m)\u001b[49m\n",
      "\u001b[0;31mFileNotFoundError\u001b[0m: [Errno 2] No such file or directory: 'ENCORD_SSH_KEY_PATH'"
     ]
    }
   ],
   "source": [
    "user_client = EncordUserClient.create_with_ssh_private_key(Path(ENCORD_SSH_KEY_PATH).expanduser().read_text())\n",
    "project: Project = user_client.get_project(ENCORD_PROJECT_HASH)\n",
    "\n",
    "ea_project_fs: ProjectFileStructure = ProjectFileStructure(ENCORD_ACTIVE_PROJECT_PATH)\n",
    "ontology = json.loads(ea_project_fs.ontology.read_text(encoding=\"utf-8\"))\n",
    "ontology_featureHashes = [obj[\"featureNodeHash\"] for obj in ontology.get(\"objects\")]\n",
    "\n",
    "predictions_to_store = []\n",
    "file_paths = []\n",
    "data_hashes = []\n",
    "\n",
    "with PrismaConnection(ea_project_fs) as conn:\n",
    "    for label in tqdm(ea_project_fs.iter_labels(cache_db=conn), desc=\"Collecting images\"):\n",
    "        for du in label.iter_data_unit(cache_db=conn):\n",
    "            file_path = url_to_file_path(du.signed_url, ea_project_fs.project_dir)\n",
    "            if file_path is not None and du.data_type in [DataType.IMAGE.value, DataType.IMG_GROUP]:\n",
    "                file_paths.append(file_path.as_posix())\n",
    "                data_hashes.append(du.du_hash)\n",
    "\n",
    "current_file_paths = []\n",
    "current_data_hashes = []\n",
    "pbar = tqdm(total=len(file_paths), desc=\"Running inference\", leave=False)\n",
    "for counter, (file_path, data_hash) in enumerate(zip(file_paths, data_hashes)):\n",
    "\n",
    "    current_file_paths.append(file_path)\n",
    "    current_data_hashes.append(data_hash)\n",
    "\n",
    "    if (counter + 1) % BATCH_SIZE == 0 or counter + 1 == len(file_paths):\n",
    "        try:\n",
    "            inference_results = project.model_inference(\n",
    "                ENCORD_MODEL_ITERATION_HASH,\n",
    "                file_paths=current_file_paths,\n",
    "                conf_thresh=CONFIDENCE_THRESHOLD,\n",
    "                iou_thresh=IOU_THRESHOLD,\n",
    "            )\n",
    "        except Exception as e:\n",
    "            print(e)\n",
    "            continue\n",
    "\n",
    "        for inference_result, current_data_hash in zip(inference_results, current_data_hashes):\n",
    "            for obj in inference_result[\"predictions\"][\"0\"][\"objects\"]:\n",
    "\n",
    "                if obj[\"shape\"] != \"bounding_box\":\n",
    "                    print(f\"prediction is not in `bbox` type (it is in {obj['shape']} type), skipping...\")\n",
    "                    continue\n",
    "\n",
    "                if obj[\"featureHash\"] not in ontology_featureHashes:\n",
    "                    print(\n",
    "                        f\"'{obj['name']}' with featureHash '{obj['featureHash']}' is not available in the ontology of\"\n",
    "                        f\" the Encord Active project.\"\n",
    "                    )\n",
    "                    continue\n",
    "\n",
    "                prediction = Prediction(\n",
    "                    data_hash=current_data_hash,\n",
    "                    confidence=obj[\"confidence\"],\n",
    "                    object=ObjectDetection(\n",
    "                        format=Format.BOUNDING_BOX,\n",
    "                        data=BoundingBox(\n",
    "                            x=obj[\"bounding_box\"][\"x\"],\n",
    "                            y=obj[\"bounding_box\"][\"y\"],\n",
    "                            w=obj[\"bounding_box\"][\"w\"],\n",
    "                            h=obj[\"bounding_box\"][\"h\"],\n",
    "                        ),\n",
    "                        feature_hash=obj[\"featureHash\"],\n",
    "                    ),\n",
    "                )\n",
    "                predictions_to_store.append(prediction)\n",
    "\n",
    "        current_file_paths = []\n",
    "        current_data_hashes = []\n",
    "\n",
    "    pbar.update(1)\n",
    "\n",
    "prediction_file = f\"predictions_{ENCORD_MODEL_ITERATION_HASH[:8]}.pkl\"\n",
    "with open((ea_project_fs.project_dir / prediction_file), \"wb\") as f:\n",
    "    pickle.dump(predictions_to_store, f)"
   ]
  },
  {
   "cell_type": "code",
   "execution_count": null,
   "id": "c0fa832b-3722-4a2f-a79b-8c98723b5d8f",
   "metadata": {},
   "outputs": [],
   "source": [
    "os.chdir(ea_project_fs.project_dir.as_posix()) \n",
    "! encord-active import predictions {prediction_file}\n",
    "\n",
    "print(\"\\n✅︎ Predictions are imported successfully!\")"
   ]
  }
 ],
 "metadata": {
  "kernelspec": {
   "display_name": "Python 3 (ipykernel)",
   "language": "python",
   "name": "python3"
  },
  "language_info": {
   "codemirror_mode": {
    "name": "ipython",
    "version": 3
   },
   "file_extension": ".py",
   "mimetype": "text/x-python",
   "name": "python",
   "nbconvert_exporter": "python",
   "pygments_lexer": "ipython3",
   "version": "3.10.8"
  }
 },
 "nbformat": 4,
 "nbformat_minor": 5
}
