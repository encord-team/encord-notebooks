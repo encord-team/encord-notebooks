{
  "cells": [
    {
      "cell_type": "markdown",
      "metadata": {
        "id": "nZ6Bu6FLvxYn"
      },
      "source": [
        "<div align=\"center\" dir=\"auto\">\n",
        "<p dir=\"auto\"><a href=\"https://colab.research.google.com/github/encord-team/encord-notebooks/blob/main/colab-notebooks/Encord_Notebooks__demo_ea_native_display.ipynb\" target=\"_parent\"><img src=\"https://colab.research.google.com/assets/colab-badge.svg\" alt=\"Open In Colab\"/></a>\n",
        "<div align=\"center\" dir=\"auto\">\n",
        "  <div style=\"flex: 1; padding: 10px;\">\n",
        "    <a href=\"https://join.slack.com/t/encordactive/shared_invite/zt-1hc2vqur9-Fzj1EEAHoqu91sZ0CX0A7Q\" target=\"_blank\" style=\"text-decoration:none\">\n",
        "      <img alt=\"Join us on Slack\" src=\"https://img.shields.io/badge/Join_Our_Community-4A154B?label=&logo=slack&logoColor=white\">\n",
        "    </a>\n",
        "    <a href=\"https://docs.encord.com/docs/active-overview\" target=\"_blank\" style=\"text-decoration:none\">\n",
        "      <img alt=\"Documentation\" src=\"https://img.shields.io/badge/docs-Online-blue\">\n",
        "    </a>\n",
        "    <a href=\"https://twitter.com/encord_team\" target=\"_blank\" style=\"text-decoration:none\">\n",
        "      <img alt=\"Twitter Follow\" src=\"https://img.shields.io/twitter/follow/encord_team?label=%40encord_team&amp;style=social\">\n",
        "    </a>\n",
        "    <img alt=\"Python versions\" src=\"https://img.shields.io/pypi/pyversions/encord-active\">\n",
        "    <a href=\"https://pypi.org/project/encord-active/\" target=\"_blank\" style=\"text-decoration:none\">\n",
        "      <img alt=\"PyPi project\" src=\"https://img.shields.io/pypi/v/encord-active\">\n",
        "    </a>\n",
        "    <a href=\"https://docs.encord.com/docs/active-contributing\" target=\"_blank\" style=\"text-decoration:none\">\n",
        "      <img alt=\"PRs Welcome\" src=\"https://img.shields.io/badge/PRs-Welcome-blue\">\n",
        "    </a>\n",
        "    <img alt=\"License\" src=\"https://img.shields.io/github/license/encord-team/encord-active\">\n",
        "  </div>\n",
        "</div>"
      ]
    },
    {
      "cell_type": "markdown",
      "metadata": {
        "id": "lZmVMPzW6JQV"
      },
      "source": [
        "# 🟣 Encord Notebooks | 📥 Explore Encord Active's `0.1.75` Native UI"
      ]
    },
    {
      "cell_type": "markdown",
      "metadata": {
        "id": "3LgvE_e362FL"
      },
      "source": [
        "## 🏁 Overview"
      ]
    },
    {
      "cell_type": "markdown",
      "metadata": {
        "id": "Yej19g4c64t8"
      },
      "source": [
        "👋 Hi there! This notebook gives you a quick way to test Encord Active with a sandbox project and without installing anything locally.\n",
        "\n",
        "This 📒 notebook will cover:\n",
        "* Install the Encord Active `0.1.75` release.\n",
        "* Launch the UI with a `quickstart` project.\n",
        "* Explore the all-new Encord Active UI 🤩.\n",
        "\n",
        "<br>\n",
        "\n",
        "> 💡 Learn more about 🟣 Encord Active: \n",
        "* [GitHub](https://github.com/encord-team/encord-active) \n",
        "* [Docs](https://docs.encord.com/docs/active-overview)"
      ]
    },
    {
      "cell_type": "markdown",
      "metadata": {
        "id": "jFRLWcZg-EVz"
      },
      "source": [
        "## 📥 Install Encord Active `0.1.75` Release\n"
      ]
    },
    {
      "cell_type": "code",
      "execution_count": null,
      "metadata": {
        "id": "iHDRDFkaeBNh"
      },
      "outputs": [],
      "source": [
        "!python -m pip install encord-active==0.1.75"
      ]
    },
    {
      "cell_type": "code",
      "execution_count": null,
      "metadata": {
        "id": "QIexBBIw15V_"
      },
      "outputs": [],
      "source": [
        "!encord-active --version"
      ]
    },
    {
      "cell_type": "code",
      "execution_count": null,
      "metadata": {
        "id": "19mNpYvVes1R"
      },
      "outputs": [],
      "source": [
        "!encord-active download --project-name quickstart"
      ]
    },
    {
      "cell_type": "code",
      "execution_count": null,
      "metadata": {
        "id": "qctxDtWReD7X"
      },
      "outputs": [],
      "source": [
        "from google.colab.output import eval_js\n",
        "from IPython.display import Javascript\n",
        "\n",
        "# Trick to be able to show the FE in a cell output.\n",
        "def show_url(url: str, height=400):\n",
        "  display(Javascript(\"\"\"\n",
        "  (async ()=>{{\n",
        "    fm = document.createElement('iframe')\n",
        "    fm.src = '%s'\n",
        "    fm.width = '95%%'\n",
        "    fm.height = '%d'\n",
        "    fm.frameBorder = 0\n",
        "    document.body.append(fm)\n",
        "  }})();\n",
        "  \"\"\" % (url, height) ))\n",
        "\n",
        "# Proxy for FE and BE\n",
        "fe_url = eval_js(\"google.colab.kernel.proxyPort(8000)\")\n",
        "be_url = eval_js(\"google.colab.kernel.proxyPort(8001)\")\n",
        "\n",
        "# Start encord active in the background\n",
        "get_ipython().system_raw(f\"ENV=packaged API_URL='{be_url}' ALLOWED_ORIGIN='{fe_url}' encord-active start &\")"
      ]
    },
    {
      "cell_type": "code",
      "execution_count": null,
      "metadata": {
        "id": "Y_ftsgzvf0WX"
      },
      "outputs": [],
      "source": [
        "# Show EA in a cell\n",
        "show_url(fe_url)"
      ]
    },
    {
      "cell_type": "code",
      "execution_count": null,
      "metadata": {
        "id": "596xvqv6hWaz"
      },
      "outputs": [],
      "source": [
        "!echo \"Alternatively use this link: {fe_url} to open the fronted in a new tab\""
      ]
    },
    {
      "cell_type": "markdown",
      "metadata": {
        "id": "-2QFNYviDB4Q"
      },
      "source": [
        "# ✅ Wrap up"
      ]
    },
    {
      "cell_type": "markdown",
      "metadata": {
        "id": "pPE2ppItDE0M"
      },
      "source": [
        "\n",
        "📓This Colab notebook showed you how to download a quickstart project with Encord Active. If you would like to learn more, check out our [documentation](https://docs.encord.com/docs/active-overview) to find more concrete workflow and guides.\n",
        "\n",
        "---\n",
        "\n",
        "🟣 Encord Active is an open-source framework for computer vision model testing, evaluation, and validation.  **Check out the project on [GitHub](https://github.com/encord-team/encord-active), leave a star 🌟** if you like it. We welcome you to [contribute](https://docs.encord.com/docs/active-contributing) if you find something is missing.\n",
        "\n",
        "---\n",
        "\n",
        "👉 Check out the 📖 [Encord Blog](https://encord.com/blog/) and 📺 [YouTube](https://www.youtube.com/@encord) channel to stay up-to-date with the latest in computer vision, foundation models, active learning, and data-centric AI.\n",
        "\n",
        "---\n",
        "\n"
      ]
    }
  ],
  "metadata": {
    "colab": {
      "provenance": []
    },
    "kernelspec": {
      "display_name": "Python 3",
      "name": "python3"
    },
    "language_info": {
      "name": "python"
    }
  },
  "nbformat": 4,
  "nbformat_minor": 0
}
