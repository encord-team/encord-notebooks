{
  "cells": [
    {
      "attachments": {},
      "cell_type": "markdown",
      "metadata": {
        "id": "oWG683Ze9f5R"
      },
      "source": [
        "<div align=\"center\" dir=\"auto\">\n",
        "<p dir=\"auto\"><a href=\"https://colab.research.google.com/github/encord-team/encord-notebooks/blob/main/colab-notebooks/01_Encord_Active_Notebooks_Download_sandbox_project.ipynb\" target=\"_parent\"><img src=\"https://colab.research.google.com/assets/colab-badge.svg\" alt=\"Open In Colab\"/></a>\n",
        "<a target=\"_blank\" rel=\"noopener noreferrer nofollow\" href=\"https://camo.githubusercontent.com/1a088dbe61584d1b213517c05e313c765ca127ce21118626b2d0db0b8f573235/68747470733a2f2f696d672e736869656c64732e696f2f6769746875622f6c6963656e73652f656e636f72642d7465616d2f656e636f72642d616374697665\"><img src=\"https://camo.githubusercontent.com/1a088dbe61584d1b213517c05e313c765ca127ce21118626b2d0db0b8f573235/68747470733a2f2f696d672e736869656c64732e696f2f6769746875622f6c6963656e73652f656e636f72642d7465616d2f656e636f72642d616374697665\" alt=\"License\" data-canonical-src=\"https://img.shields.io/github/license/encord-team/encord-active\" style=\"max-width: 100%;\"></a>\n",
        "<a href=\"https://www.piwheels.org/project/encord-active/\" rel=\"nofollow\"><img src=\"https://camo.githubusercontent.com/ad0f13bbb94beadb953a46e51cee0db17ade62e4deb8c306e36a7addfa69d18f/68747470733a2f2f696d672e736869656c64732e696f2f707970692f762f656e636f72642d616374697665\" alt=\"PyPi project\" data-canonical-src=\"https://img.shields.io/pypi/v/encord-active\" style=\"max-width: 100%;\"></a>\n",
        "<a target=\"_blank\" rel=\"noopener noreferrer nofollow\" href=\"https://camo.githubusercontent.com/890ceffab6602e1a6ecac875e179b3984708f98b0a91293e6c632752d11bad7e/68747470733a2f2f696d672e736869656c64732e696f2f707970692f707976657273696f6e732f656e636f72642d616374697665\"><img src=\"https://camo.githubusercontent.com/890ceffab6602e1a6ecac875e179b3984708f98b0a91293e6c632752d11bad7e/68747470733a2f2f696d672e736869656c64732e696f2f707970692f707976657273696f6e732f656e636f72642d616374697665\" alt=\"PyPi version\" data-canonical-src=\"https://img.shields.io/pypi/pyversions/encord-active\" style=\"max-width: 100%;\"></a>\n",
        "\n",
        "<a href=\"https://docs.encord.com/docs/active-overview\" rel=\"nofollow\"><img src=\"https://camo.githubusercontent.com/457447b616a4e5aecccd5351fa78d41ce828901e395b935ad2a94d94db75e5d0/68747470733a2f2f696d672e736869656c64732e696f2f62616467652f646f63732d6f6e6c696e652d626c7565\" alt=\"docs\" data-canonical-src=\"https://img.shields.io/badge/docs-online-blue\" style=\"max-width: 100%;\"></a>\n",
        "<a href=\"https://join.slack.com/t/encordactive/shared_invite/zt-1hc2vqur9-Fzj1EEAHoqu91sZ0CX0A7Q\" target=\"_blank\" style=\"text-decoration:none\">\n",
        "<img alt=\"Join us on Slack\" src=\"https://img.shields.io/badge/Join_Our_Community-4A154B?label=&logo=slack&logoColor=white\">\n",
        "</a>\n",
        "<a href=\"https://github.com/encord-team/encord-notebooks/blob/main/local-notebooks/01_Encord_Active_Notebooks___Download_sandbox_project.ipynb\" rel=\"nofollow\"><img src=\"https://badges.aleen42.com/src/github.svg\" alt=\"&quot;Encord Notebooks;\" data-canonical-src=\"https://badges.aleen42.com/src/github.svg\" style=\"max-width: 100%;\"></a>\n",
        "\n",
        "\n",
        "</p>\n",
        "<p dir=\"auto\">\n",
        "<a href=\"https://twitter.com/encord_team\" rel=\"nofollow\"><img src=\"https://camo.githubusercontent.com/c7ea37e4d1f0c2e900069152f5990d3bcef4a69c97dede26f08d588958410bd8/68747470733a2f2f696d672e736869656c64732e696f2f747769747465722f666f6c6c6f772f656e636f72645f7465616d3f6c6162656c3d253430656e636f72645f7465616d267374796c653d736f6369616c\" alt=\"Twitter Follow\" data-canonical-src=\"https://img.shields.io/twitter/follow/encord_team?label=%40encord_team&amp;style=social\" style=\"max-width: 100%;\"></a></p>\n",
        "</div>"
      ]
    },
    {
      "attachments": {},
      "cell_type": "markdown",
      "metadata": {
        "id": "4eF7Fn8lBiN8"
      },
      "source": [
        "<div align=\"center\">\n",
        "  <p>\n",
        "    <a align=\"center\" href=\"\" target=\"_blank\">\n",
        "      <img\n",
        "        width=\"7232\"\n",
        "        src=\"https://storage.googleapis.com/encord-notebooks/encord_active_notebook_banner.png\">\n",
        "    </a>\n",
        "  </p>\n",
        "</div>"
      ]
    },
    {
      "attachments": {},
      "cell_type": "markdown",
      "metadata": {
        "id": "TxZTJQyoeK6m"
      },
      "source": [
        "# 🟣 Encord Active | 📥 Download Sandbox Project\n"
      ]
    },
    {
      "attachments": {},
      "cell_type": "markdown",
      "metadata": {
        "id": "OPYaECRBKYig"
      },
      "source": [
        "## 🏁 Overview"
      ]
    },
    {
      "attachments": {},
      "cell_type": "markdown",
      "metadata": {
        "id": "VrrgT0Ka9jk_"
      },
      "source": [
        "👋 Hi there! This notebook gives you a quick way to test Encord Active with a sandbox project and without installing anything locally.\n",
        "\n",
        "This 📒 notebook will cover:\n",
        "* Installing Encord Active\n",
        "* Choosing a sandbox project\n",
        "* Starting the Encord Active app with the sandbox project\n",
        "\n",
        "<br>\n",
        "\n",
        "> 💡 Learn more about 🟣 Encord Active: \n",
        "* [GitHub](https://github.com/encord-team/encord-active) \n",
        "* [Docs](https://docs.encord.com/docs/active-overview)"
      ]
    },
    {
      "attachments": {},
      "cell_type": "markdown",
      "metadata": {
        "id": "WO8IUmYu47a0"
      },
      "source": [
        "## 📥 Install 🟣 Encord-Active\n"
      ]
    },
    {
      "attachments": {},
      "cell_type": "markdown",
      "metadata": {
        "id": "ByT_wNp6CYEr"
      },
      "source": [
        "👟 Run the following script to install [Encord Active](https://docs.encord.com/active/docs/).\n",
        "\n",
        "\n",
        "📌  `python3.9`, `python3.10`, and `python3.11` are the version requirements to run Encord Active."
      ]
    },
    {
      "cell_type": "code",
      "execution_count": null,
      "metadata": {
        "id": "r6AfzNEESQAX"
      },
      "outputs": [],
      "source": [
        "# Assert that python is 3.9 or 3.10 instead\n",
        "import sys\n",
        "import os\n",
        "\n",
        "assert sys.version_info.minor in [9, 10, 11], \"Encord Active only supported for python 3.9, 3.10, and 3.11.\"\n",
        "%pip install -qq encord-active\n",
        "\n",
        "# Temporary install to fix colab dependency conflict\n",
        "%pip install -U numba\n",
        "\n",
        "# To restart your instance to use the latest numba version\n",
        "os.kill(os.getpid(), 9)"
      ]
    },
    {
      "cell_type": "code",
      "execution_count": null,
      "metadata": {},
      "outputs": [],
      "source": [
        "#@title 👇🏽 Run this utility code for Colab notebooks only\n",
        "\n",
        "sys.stdout.fileno = lambda: 1\n",
        "sys.stderr.fileno = lambda: 2"
      ]
    },
    {
      "attachments": {},
      "cell_type": "markdown",
      "metadata": {
        "id": "zLjGzp9fmBqE"
      },
      "source": [
        "# 🗂️ Import libraries and other utilities"
      ]
    },
    {
      "cell_type": "code",
      "execution_count": null,
      "metadata": {},
      "outputs": [],
      "source": [
        "from pathlib import Path\n",
        "\n",
        "from encord_active.lib.project.sandbox_projects import fetch_prebuilt_project"
      ]
    },
    {
      "attachments": {},
      "cell_type": "markdown",
      "metadata": {
        "id": "r37LQkresX2w"
      },
      "source": [
        "# 🗃️ Choose a sandbox project\n",
        "\n",
        "\n",
        "\n",
        "\n"
      ]
    },
    {
      "attachments": {},
      "cell_type": "markdown",
      "metadata": {
        "id": "aS7qqy8s-2UB"
      },
      "source": [
        "⏩ You can choose between four different sandbox projects with open datasets:\n",
        "\n",
        "*   [COCO-2017 Validation](https://paperswithcode.com/dataset/coco) (~5000 samples, ~41k annotations)\n",
        "*   [BDD Dataset Validation](https://bdd-data.berkeley.edu/) (~1000 samples, ~13k annotations)\n",
        "*   [Covid-19 Segmentation](https://paperswithcode.com/task/covid-19-image-segmentation) (~100 samples, ~600 annotations)\n",
        "*   [Limuc Ulcerative Classification](https://paperswithcode.com/dataset/limuc) (~1686 samples, no annotations)\n",
        "\n",
        "<br>\n",
        "\n",
        "🙋 If you're here for the first time, we recommend you to start with the COCO-2017 Validation dataset."
      ]
    },
    {
      "attachments": {},
      "cell_type": "markdown",
      "metadata": {},
      "source": [
        "#### 🗃️ Choose a sandbox project you want to get started with"
      ]
    },
    {
      "cell_type": "code",
      "execution_count": null,
      "metadata": {
        "colab": {
          "base_uri": "https://localhost:8080/"
        },
        "id": "sPBamQLfEt2P",
        "outputId": "c9a5570e-faa7-4207-9228-1b3fc9f515b5"
      },
      "outputs": [],
      "source": [
        "from IPython.display import display, Markdown\n",
        "\n",
        "project = 'COCO-2017 Validation'  #@param ['COCO-2017 Validation', 'Limuc Ulcerative Classification', 'Covid-19 Segmentation', 'BDD Dataset Validation']\n",
        "\n",
        "project_names = {\n",
        "    'COCO-2017 Validation': \"[open-source][validation]-coco-2017-dataset\",\n",
        "    'Limuc Ulcerative Classification': \"[open-source][test]-limuc-ulcerative-colitis-classification\",\n",
        "    'Covid-19 Segmentation': \"[open-source]-covid-19-segmentations\",\n",
        "    'BDD Dataset Validation': \"[open-source][validation]-bdd-dataset\"\n",
        "}\n",
        "\n",
        "if project in project_names:\n",
        "    project_name = project_names[project]\n",
        "    print(\"Great! You chose the\", project, \"dataset.\")\n",
        "else:\n",
        "    print(\"Invalid project selection.\")\n"
      ]
    },
    {
      "attachments": {},
      "cell_type": "markdown",
      "metadata": {
        "id": "37f1HUrZ5k8B"
      },
      "source": [
        "## 📩 Download sandbox project and start the app\n"
      ]
    },
    {
      "attachments": {},
      "cell_type": "markdown",
      "metadata": {},
      "source": [
        "💪 Lastly, download the sandbox project, including the dataset, and start the application.\n",
        "\n",
        "💡 The Encord Active UI is made with Streamlit. Encord Active fetches the dataset and pre-built image, downloads it locally, and the `start` command starts the Streamlit app on the backend."
      ]
    },
    {
      "cell_type": "code",
      "execution_count": null,
      "metadata": {},
      "outputs": [],
      "source": [
        "# Choose where to store the data\n",
        "project_path = Path.cwd() / project_name\n",
        "\n",
        "# Download the dataset\n",
        "fetch_prebuilt_project(project_name, project_path)\n",
        "\n",
        "# Open the app\n",
        "#!encord-active start -t \"$project_path\""
      ]
    },
    {
      "cell_type": "markdown",
      "metadata": {},
      "source": [
        "## ♾️ Open the app inside Colab"
      ]
    },
    {
      "cell_type": "code",
      "execution_count": null,
      "metadata": {},
      "outputs": [],
      "source": [
        "import time\n",
        "\n",
        "from google.colab.output import eval_js\n",
        "from IPython.display import Javascript\n",
        "\n",
        "# Trick to be able to show the FE in a cell output.\n",
        "def show_url(url: str, height=400):\n",
        "  display(Javascript(\"\"\"\n",
        "  (async ()=>{{\n",
        "    fm = document.createElement('iframe')\n",
        "    fm.src = '%s'\n",
        "    fm.width = '95%%'\n",
        "    fm.height = '%d'\n",
        "    fm.frameBorder = 0\n",
        "    document.body.append(fm)\n",
        "  }})();\n",
        "  \"\"\" % (url, height) ))\n",
        "\n",
        "# Proxy for FE and BE\n",
        "fe_url = eval_js(\"google.colab.kernel.proxyPort(8000)\")\n",
        "be_url = eval_js(\"google.colab.kernel.proxyPort(8001)\")\n",
        "\n",
        "# Start encord active in the background\n",
        "get_ipython().system_raw(f\"ENV=packaged API_URL='{be_url}' ALLOWED_ORIGIN='{fe_url}' encord-active start & -t '$project_path'\")\n",
        "\n",
        "# Deliberate pause while waiting for the backend server to start up\n",
        "time.sleep(60)"
      ]
    },
    {
      "cell_type": "code",
      "execution_count": null,
      "metadata": {},
      "outputs": [],
      "source": [
        "# Show EA in a cell (run the next cell if it the EA UI does not display)\n",
        "show_url(fe_url)"
      ]
    },
    {
      "cell_type": "code",
      "execution_count": null,
      "metadata": {},
      "outputs": [],
      "source": [
        "!echo \"Alternatively use this link: {fe_url} to open the fronted in a new tab\""
      ]
    },
    {
      "attachments": {},
      "cell_type": "markdown",
      "metadata": {
        "id": "YrDh8Re6EIT3"
      },
      "source": [
        "# 👏 Success! Welcome to 🟣 Encord Active!"
      ]
    },
    {
      "attachments": {},
      "cell_type": "markdown",
      "metadata": {
        "id": "4P2v4lOEAShb"
      },
      "source": [
        "🏆 Congratulations, you should be able to see your Encord Active dashboard running 🔽."
      ]
    },
    {
      "attachments": {},
      "cell_type": "markdown",
      "metadata": {
        "id": "FBD5CIWlwKo6"
      },
      "source": [
        "![Encord Active welcome resized.png.jpeg](https://storage.googleapis.com/encord-notebooks/local-notebooks/encord_active_welcome_page.jpeg)"
      ]
    },
    {
      "attachments": {},
      "cell_type": "markdown",
      "metadata": {
        "id": "VCCnbuD8EQvu"
      },
      "source": [
        "# ✅ Wrap up"
      ]
    },
    {
      "attachments": {},
      "cell_type": "markdown",
      "metadata": {
        "id": "ebB0Y1AroE6n"
      },
      "source": [
        "\n",
        "📓 This Colab notebook showed you how to download a sandbox project with Encord Active. If you would like to learn more, check out our [documentation](https://docs.encord.com/docs/active-overview) to find more concrete workflow and guides.\n",
        "\n",
        "> ⚠️ Remember to stop the `show_url(fe_url)` cell above, if it's running, to close the app when you are done exploring the Encord Active sandbox dataset. You may also want to delete the project folder too.\n",
        "\n",
        "---\n",
        "\n",
        "🟣 Encord Active is an open-source framework for computer vision model testing, evaluation, and validation.  **Check out the project on [GitHub](https://github.com/encord-team/encord-active), leave a star 🌟** if you like it. We welcome you to [contribute](https://docs.encord.com/docs/active-contributing) if you find something is missing.\n",
        "\n",
        "---\n",
        "\n",
        "👉 Check out the 📖 [Encord Blog](https://encord.com/blog/) and 📺 [YouTube](https://www.youtube.com/@encord) channel to stay up-to-date with the latest in computer vision, foundation models, active learning, and data-centric AI.\n",
        "\n"
      ]
    },
    {
      "attachments": {},
      "cell_type": "markdown",
      "metadata": {
        "id": "RDzrYNahKnX9"
      },
      "source": [
        "# ⏭️ Next: Learn how to import your Encord Project"
      ]
    },
    {
      "attachments": {},
      "cell_type": "markdown",
      "metadata": {
        "id": "oD-Wv0xGKymr"
      },
      "source": [
        "What should you check out next? 👀 Learn how to import an existing Encord project. The Colab notebook will cover:\n",
        "\n",
        "- Generating SSH key pairs to connect to the Encord platform and fetch a project.\n",
        "- Installing Encord Active and import the selected project.\n",
        "- Launching the Encord Active app containing the project.\n",
        "\n",
        "\n",
        "### $~~~~~~~~~~~~~~~~~~~~~~~~~~~~~~~~~~~~~~~~~~~~~~~~~~~~~~~~~~~~~~~~~~~~~~~~~~~~~~~~~~~~~~~~~~~~~~~~~~~~~~~~~~~~~$ *👇*\n"
      ]
    },
    {
      "attachments": {},
      "cell_type": "markdown",
      "metadata": {
        "id": "yWlE1NtaWZPx"
      },
      "source": [
        "### $~~~~~~~~~~~~~~~~~~~~~~~~~~~~~~~~~~~~~~~~~~~~~~~~~~~~~~~~~~~~~~~~~~~~~~~~~~~~~~~~~~~~~~~~~~~~~~~~~~~~$ [*Next Notebook*](./02_Encord_Active___Import_project_(self_hosting).ipynb) *➡️*\n"
      ]
    }
  ],
  "metadata": {
    "colab": {
      "provenance": []
    },
    "kernelspec": {
      "display_name": "Python 3",
      "name": "python3"
    },
    "language_info": {
      "codemirror_mode": {
        "name": "ipython",
        "version": 3
      },
      "file_extension": ".py",
      "mimetype": "text/x-python",
      "name": "python",
      "nbconvert_exporter": "python",
      "pygments_lexer": "ipython3",
      "version": "3.10.0"
    }
  },
  "nbformat": 4,
  "nbformat_minor": 0
}
