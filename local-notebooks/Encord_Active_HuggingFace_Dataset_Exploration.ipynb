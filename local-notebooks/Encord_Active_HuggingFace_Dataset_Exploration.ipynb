{
  "cells": [
    {
      "cell_type": "markdown",
      "metadata": {
        "id": "Ix90mmYg-S_f"
      },
      "source": [
        "<div align=\"center\" dir=\"auto\">\n",
        "<p dir=\"auto\"><a href=\"https://colab.research.google.com/github/encord-team/encord-notebooks/blob/main/colab-notebooks/Encord_Active_HuggingFace_Dataset_Exploration.ipynb\" target=\"_parent\"><img src=\"https://colab.research.google.com/assets/colab-badge.svg\" alt=\"Open In Colab\"/></a>\n",
        "<div align=\"center\" dir=\"auto\">\n",
        "  <div style=\"flex: 1; padding: 10px;\">\n",
        "    <a href=\"https://join.slack.com/t/encordactive/shared_invite/zt-1hc2vqur9-Fzj1EEAHoqu91sZ0CX0A7Q\" target=\"_blank\" style=\"text-decoration:none\">\n",
        "      <img alt=\"Join us on Slack\" src=\"https://img.shields.io/badge/Join_Our_Community-4A154B?label=&logo=slack&logoColor=white\">\n",
        "    </a>\n",
        "    <a href=\"https://docs.encord.com/docs/active-overview\" target=\"_blank\" style=\"text-decoration:none\">\n",
        "      <img alt=\"Documentation\" src=\"https://img.shields.io/badge/docs-Online-blue\">\n",
        "    </a>\n",
        "    <a href=\"https://twitter.com/encord_team\" target=\"_blank\" style=\"text-decoration:none\">\n",
        "      <img alt=\"Twitter Follow\" src=\"https://img.shields.io/twitter/follow/encord_team?label=%40encord_team&amp;style=social\">\n",
        "    </a>\n",
        "    <img alt=\"Python versions\" src=\"https://img.shields.io/pypi/pyversions/encord-active\">\n",
        "    <a href=\"https://pypi.org/project/encord-active/\" target=\"_blank\" style=\"text-decoration:none\">\n",
        "      <img alt=\"PyPi project\" src=\"https://img.shields.io/pypi/v/encord-active\">\n",
        "    </a>\n",
        "    <a href=\"https://docs.encord.com/docs/active-contributing\" target=\"_blank\" style=\"text-decoration:none\">\n",
        "      <img alt=\"PRs Welcome\" src=\"https://img.shields.io/badge/PRs-Welcome-blue\">\n",
        "    </a>\n",
        "    <img alt=\"License\" src=\"https://img.shields.io/github/license/encord-team/encord-active\">\n",
        "  </div>\n",
        "</div>"
      ]
    },
    {
      "cell_type": "markdown",
      "metadata": {
        "id": "J3xuMLJinnX5"
      },
      "source": [
        "<div align=\"center\">\n",
        "  <p>\n",
        "    <a align=\"center\" href=\"\" target=\"_blank\">\n",
        "      <img\n",
        "        width=\"7232\"\n",
        "        src=\"https://storage.googleapis.com/encord-notebooks/encord_active_notebook_banner.png\">\n",
        "    </a>\n",
        "  </p>\n",
        "</div>"
      ]
    },
    {
      "cell_type": "markdown",
      "metadata": {
        "id": "iebgJ1JbFCwy"
      },
      "source": [
        "# 🟣 Encord Active | 🤗 HuggingFace Dataset Exploration"
      ]
    },
    {
      "cell_type": "markdown",
      "metadata": {
        "id": "eq0L5XrAFd31"
      },
      "source": [
        "## 🏁 Overview"
      ]
    },
    {
      "cell_type": "markdown",
      "metadata": {
        "id": "Z_mRHrJ_Jm7n"
      },
      "source": [
        "👋 Hi there! In this notebook, you will use Encord Active (EA) to explore the quality of a dataset from the [Hugging Face Datasets](https://huggingface.co/datasets) library.\n",
        "\n",
        "\n",
        "> ⚠️ **Prerequisites:** you should have `encord-active` [installed](https://docs.encord.com/docs/active-overview) in your environment.\n",
        "\n",
        "This 📒 notebook will cover:\n",
        "* Using 🤗 Datasets to download and generate the dataset.\n",
        "* Creating an Encord Active project.\n",
        "* Inspecting problematic images in the dataset.\n",
        "* Exploring more features with the EA UI.\n",
        "\n",
        "<br>\n",
        "\n",
        "> 💡 Learn more about 🟣 Encord Active:\n",
        "* [GitHub](https://github.com/encord-team/encord-active)\n",
        "* [Docs](https://docs.encord.com/docs/active-overview)"
      ]
    },
    {
      "cell_type": "markdown",
      "metadata": {
        "id": "yv_kz9VtCJSe"
      },
      "source": [
        "## 🛠️ Install Encord Active"
      ]
    },
    {
      "cell_type": "markdown",
      "metadata": {
        "id": "pwoSxHf7BcxX"
      },
      "source": [
        "📌  `python3.9`, `python3.10`, and `python3.11` are the version requirements to run Encord Active."
      ]
    },
    {
      "cell_type": "code",
      "execution_count": null,
      "metadata": {
        "id": "owdkTcPbP88e"
      },
      "outputs": [],
      "source": [
        "# Assert that python is 3.9 or 3.10 instead\n",
        "import sys\n",
        "assert sys.version_info.minor in [9, 10, 11], \"Encord Active only supported for python 3.9, 3.10, and 3.11.\"\n",
        "\n",
        "!pip install encord-active &> /dev/null\n",
        "!encord-active --version"
      ]
    },
    {
      "cell_type": "markdown",
      "metadata": {
        "id": "qD0LBtnK-REL"
      },
      "source": [
        "## 📥 Install the 🤗 Hugging Face Datasets package"
      ]
    },
    {
      "cell_type": "markdown",
      "metadata": {
        "id": "jehfrSQq0Iag"
      },
      "source": [
        "👟 Run the following installation script for [🤗 Datasets](https://huggingface.co/datasets).\n",
        "\n"
      ]
    },
    {
      "cell_type": "code",
      "execution_count": null,
      "metadata": {
        "id": "4pXOBnMILgGV"
      },
      "outputs": [],
      "source": [
        "# Install the Hugging Face Datasets library\n",
        "%pip install datasets &> /dev/null"
      ]
    },
    {
      "cell_type": "markdown",
      "metadata": {
        "id": "zXDKGS6G-W2-"
      },
      "source": [
        "# 📨 Download a Hugging Face Dataset"
      ]
    },
    {
      "cell_type": "markdown",
      "metadata": {
        "id": "ziYuDPDgQQG-"
      },
      "source": [
        "You can explore the [Hugging Face dataset](https://huggingface.co/datasets) directory and loady any dataset prefer to explore.\n",
        "\n",
        "\n",
        "Here, install [`sashs/dog-food`](https://huggingface.co/datasets/sasha/dog-food) dataset where there are 3000 images consists of dogs and foods."
      ]
    },
    {
      "cell_type": "code",
      "execution_count": null,
      "metadata": {
        "id": "tdK0ZJ3-Ag9j"
      },
      "outputs": [],
      "source": [
        "from datasets import load_dataset, concatenate_datasets\n",
        "from pathlib import Path\n",
        "import shutil\n",
        "from tqdm import tqdm\n",
        "\n",
        "# Use load_dataset function to download any dataset on the Hugging Face\n",
        "# You can browse through datasets here: https://huggingface.co/datasets\n",
        "dataset_dict = load_dataset('sasha/dog-food')\n",
        "dataset = concatenate_datasets([d for d in dataset_dict.values()])\n",
        "\n",
        "huggingface_dataset_path =  Path.cwd() / \"huggingface_dataset\"\n",
        "\n",
        "if huggingface_dataset_path.exists():\n",
        "  shutil.rmtree(huggingface_dataset_path)\n",
        "huggingface_dataset_path.mkdir()\n",
        "\n",
        "for counter, item in tqdm(enumerate(dataset)):\n",
        "  image = item['image']\n",
        "  image.save(f'./huggingface_dataset/{counter}.{image.format}')"
      ]
    },
    {
      "cell_type": "markdown",
      "metadata": {
        "id": "AXxhLhin_WUT"
      },
      "source": [
        "# 🔧 Create an Encord Active project"
      ]
    },
    {
      "cell_type": "markdown",
      "metadata": {
        "id": "nneOC2M3TesF"
      },
      "source": [
        "## 👉 Add the Dataset to an Encord Active Project"
      ]
    },
    {
      "cell_type": "markdown",
      "metadata": {
        "id": "QqorHdUDSwIv"
      },
      "source": [
        "The code below sets up a project using Encord Active, initializes it with image files, and runs metrics on the project's data.\n",
        "\n",
        "* It obtains a list of all the image files from `huggingface_dataset` directory with the `collect_all_images` that takes a root folder path as input and returns a list of Path objects representing image files within the root folder\n",
        "\n",
        "* Initializes a local project using Encord Active's `init_local_project` function\n",
        "\n",
        "* Creates a project in the specified `projects_dir` directory with the image files and project name\n",
        "\n",
        "* Calls  the [`run_metrics_by_embedding_type`](https://docs.encord.com/docs/active-sdk-quality-metric-execution#compute-only-data-or-label-metrics) function to run metrics for the image embeddings (`EmbeddingType.IMAGE`). The metrics will be executed on the data in `project_path`"
      ]
    },
    {
      "cell_type": "code",
      "execution_count": null,
      "metadata": {
        "id": "PCBKNbXN5sZ0"
      },
      "outputs": [],
      "source": [
        "from pathlib import Path\n",
        "\n",
        "from encord_active.lib.metrics.execute import run_metrics, run_metrics_by_embedding_type\n",
        "from encord_active.lib.metrics.metric import EmbeddingType\n",
        "from encord_active.lib.project.local import ProjectExistsError, init_local_project\n",
        "from encord_active.lib.project.project import Project\n",
        "\n",
        "def collect_all_images(root_folder: Path) ->  list[Path]:\n",
        "    image_extensions = {\".jpg\", \".jpeg\", \".png\", \".bmp\"}\n",
        "    image_paths = []\n",
        "\n",
        "    for file_path in root_folder.glob(\"**/*\"):\n",
        "        if file_path.suffix.lower() in image_extensions:\n",
        "            image_paths.append(file_path)\n",
        "\n",
        "    return image_paths\n",
        "\n",
        "# Enter path to the downloaded hugging face dataset\n",
        "root_folder = Path(\"./huggingface_dataset\")\n",
        "projects_dir = Path.cwd()\n",
        "\n",
        "if not projects_dir.exists():\n",
        "  projects_dir.mkdir()\n",
        "\n",
        "image_files = collect_all_images(root_folder)\n",
        "\n",
        "try:\n",
        "    project_path: Path = init_local_project(\n",
        "        files = image_files,\n",
        "        target = projects_dir,\n",
        "        project_name = \"sample_ea_project\",\n",
        "        symlinks = False,\n",
        "    )\n",
        "except ProjectExistsError as e:\n",
        "    project_path = Path(\"./sample_ea_project\")\n",
        "    print(e)  # A project already exist with that name at the given path.\n",
        "\n",
        "run_metrics_by_embedding_type(\n",
        "    EmbeddingType.IMAGE,\n",
        "    data_dir=project_path,\n",
        "    use_cache_only=True\n",
        ")\n",
        "\n",
        "ea_project = Project(project_path)"
      ]
    },
    {
      "cell_type": "markdown",
      "metadata": {
        "id": "VLlodjncU8f4"
      },
      "source": [
        "# 📥 Import helper functions\n",
        "\n"
      ]
    },
    {
      "cell_type": "markdown",
      "metadata": {
        "id": "5mUW34kCVmCX"
      },
      "source": [
        "Now import some helper functions from Encord Active and with visualization libraries to visualize the images."
      ]
    },
    {
      "cell_type": "code",
      "execution_count": null,
      "metadata": {
        "id": "INU_TIhxU_bn"
      },
      "outputs": [],
      "source": [
        "import matplotlib.pyplot as plt\n",
        "import plotly.express as px\n",
        "\n",
        "from encord_active.lib.charts.data_quality_summary import create_image_size_distribution_chart, create_outlier_distribution_chart\n",
        "from encord_active.lib.dataset.summary_utils import get_all_image_sizes, get_metric_summary, get_median_value_of_2d_array\n",
        "from encord_active.lib.metrics.utils import load_available_metrics\n",
        "from encord_active.lib.dataset.outliers import MetricsSeverity, get_all_metrics_outliers\n",
        "from encord_active.lib.common.image_utils import load_or_fill_image\n",
        "from encord_active.lib.charts.histogram import get_histogram\n",
        "\n",
        "def plot_top_k_images(metric_name: str, metrics_data_summary: MetricsSeverity, project: Project, k: int, show_description: bool = False, ascending: bool = True):\n",
        "    metric_df = metrics_data_summary.metrics[metric_name].df\n",
        "    metric_df.sort_values(by='score', ascending=ascending, inplace=True)\n",
        "\n",
        "    for _, row in metric_df.head(k).iterrows():\n",
        "        image = load_or_fill_image(row, project.file_structure)\n",
        "        plt.imshow(image)\n",
        "        plt.show()\n",
        "        print(f\"{metric_name} score: {row['score']}\")\n",
        "        if show_description:\n",
        "          print(f\"{row['description']}\")\n",
        "\n",
        "def plot_metric_distribution(metric_name: str, metric_data_summary: MetricsSeverity):\n",
        "    fig = px.histogram(metrics_data_summary.metrics[metric_name].df, x=\"score\", nbins=50)\n",
        "\n",
        "    fig.update_layout(title=f\"{metric_name} score distribution\", bargap=0.2)\n",
        "    fig.show()\n"
      ]
    },
    {
      "cell_type": "markdown",
      "metadata": {
        "id": "HlcKNEnUUnKI"
      },
      "source": [
        "# 🔔 Plot image size distributions"
      ]
    },
    {
      "cell_type": "code",
      "execution_count": null,
      "metadata": {
        "id": "UDm0oVjzT8ZO"
      },
      "outputs": [],
      "source": [
        "image_sizes = get_all_image_sizes(ea_project.file_structure)\n",
        "median_image_dimension = get_median_value_of_2d_array(image_sizes)\n",
        "\n",
        "fig = create_image_size_distribution_chart(image_sizes)\n",
        "\n",
        "print(f\"Total images in the dataset: {len(image_sizes)}\")\n",
        "print(f\"Median image sizes: {median_image_dimension[0]}x{median_image_dimension[1]}\")\n",
        "fig.show()"
      ]
    },
    {
      "cell_type": "markdown",
      "metadata": {
        "id": "p8itAs0SUxMJ"
      },
      "source": [
        "# 📈 Show total outliers"
      ]
    },
    {
      "cell_type": "code",
      "execution_count": null,
      "metadata": {
        "id": "m0ULGHxRUWsH"
      },
      "outputs": [],
      "source": [
        "available_metrics = load_available_metrics(ea_project.file_structure.metrics)\n",
        "metrics_data_summary = get_metric_summary(available_metrics)\n",
        "all_metrics_outliers = get_all_metrics_outliers(metrics_data_summary)\n",
        "fig = create_outlier_distribution_chart(all_metrics_outliers, \"tomato\", 'orange')\n",
        "\n",
        "print(f'Total severe outliers: {metrics_data_summary.total_unique_severe_outliers} \\n'\n",
        "      f'Total moderate outliers: {metrics_data_summary.total_unique_moderate_outliers}')\n",
        "\n",
        "fig.show()"
      ]
    },
    {
      "cell_type": "markdown",
      "metadata": {
        "id": "wdAHQn-vbfeo"
      },
      "source": [
        "# 🧐 Inspect problematic images"
      ]
    },
    {
      "cell_type": "markdown",
      "metadata": {
        "id": "IyQhWgxyWClS"
      },
      "source": [
        "Now you will have to inspect the dataset for problematic images."
      ]
    },
    {
      "cell_type": "code",
      "execution_count": null,
      "metadata": {
        "id": "FT5I5dGhVZNb"
      },
      "outputs": [],
      "source": [
        "# First, get the list of available metrics\n",
        "[metric.name for metric in available_metrics]"
      ]
    },
    {
      "cell_type": "markdown",
      "metadata": {
        "id": "OjtOB7Jzr7Dl"
      },
      "source": [
        "# 👁️ Visualize score distributions based on metric"
      ]
    },
    {
      "cell_type": "code",
      "execution_count": null,
      "metadata": {
        "id": "OIfht5swsAHe"
      },
      "outputs": [],
      "source": [
        "for metric in available_metrics:\n",
        "  plot_metric_distribution(metric.name, metrics_data_summary)"
      ]
    },
    {
      "cell_type": "markdown",
      "metadata": {
        "id": "lbuCMR3IiA8f"
      },
      "source": [
        "# Get the smallest images"
      ]
    },
    {
      "cell_type": "code",
      "execution_count": null,
      "metadata": {
        "id": "LiFuNRCogHWd"
      },
      "outputs": [],
      "source": [
        "plot_top_k_images('Area', metrics_data_summary, ea_project, k=5, ascending=True)"
      ]
    },
    {
      "cell_type": "markdown",
      "metadata": {
        "id": "pBjOfkIviFta"
      },
      "source": [
        "# Get the biggest images"
      ]
    },
    {
      "cell_type": "code",
      "execution_count": null,
      "metadata": {
        "id": "ziYYWe82hxzg"
      },
      "outputs": [],
      "source": [
        "plot_top_k_images('Area', metrics_data_summary, ea_project, k=5, ascending=False)"
      ]
    },
    {
      "cell_type": "markdown",
      "metadata": {
        "id": "mRznGY3OiMej"
      },
      "source": [
        "# Get the blurriest images"
      ]
    },
    {
      "cell_type": "code",
      "execution_count": null,
      "metadata": {
        "id": "iOLwSfV5iRsw"
      },
      "outputs": [],
      "source": [
        "plot_top_k_images('Blur', metrics_data_summary, ea_project, k=5, ascending=False)"
      ]
    },
    {
      "cell_type": "markdown",
      "metadata": {
        "id": "f9uj-9YairJi"
      },
      "source": [
        "# Get the brightest images"
      ]
    },
    {
      "cell_type": "code",
      "execution_count": null,
      "metadata": {
        "id": "ZuezcOvwivGX"
      },
      "outputs": [],
      "source": [
        "plot_top_k_images('Brightness', metrics_data_summary, ea_project, k=5, ascending=False)"
      ]
    },
    {
      "cell_type": "markdown",
      "metadata": {
        "id": "xJTm7fGmmmpX"
      },
      "source": [
        "# Get the darkest images"
      ]
    },
    {
      "cell_type": "code",
      "execution_count": null,
      "metadata": {
        "id": "5bqBxlZ0mqFt"
      },
      "outputs": [],
      "source": [
        "plot_top_k_images('Brightness', metrics_data_summary, ea_project, k=5, ascending=True)"
      ]
    },
    {
      "cell_type": "markdown",
      "metadata": {
        "id": "957ribVtjVZo"
      },
      "source": [
        "# Get the least unique images"
      ]
    },
    {
      "cell_type": "code",
      "execution_count": null,
      "metadata": {
        "id": "ACyNR_S2iyT1"
      },
      "outputs": [],
      "source": [
        "plot_top_k_images('Image Singularity', metrics_data_summary, ea_project, k=15, show_description=True)"
      ]
    },
    {
      "cell_type": "markdown",
      "metadata": {
        "id": "fDwoY8JVwnnA"
      },
      "source": [
        "# Get the images that have the smallest aspect ratio"
      ]
    },
    {
      "cell_type": "code",
      "execution_count": null,
      "metadata": {
        "id": "BRlu5blZwVH0"
      },
      "outputs": [],
      "source": [
        "plot_top_k_images('Aspect Ratio', metrics_data_summary, ea_project, k=10)"
      ]
    },
    {
      "cell_type": "markdown",
      "metadata": {
        "id": "254nYRNAwxbX"
      },
      "source": [
        "# Get the images that have the biggest aspect ratio"
      ]
    },
    {
      "cell_type": "code",
      "execution_count": null,
      "metadata": {
        "id": "SbJpit1EwyBV"
      },
      "outputs": [],
      "source": [
        "plot_top_k_images('Aspect Ratio', metrics_data_summary, ea_project, k=10, ascending=False)"
      ]
    },
    {
      "cell_type": "markdown",
      "metadata": {
        "id": "80zLaV2FXoLx"
      },
      "source": [
        "# ✅ Wrap Up: Explore more features with Encord Active UI\n"
      ]
    },
    {
      "cell_type": "markdown",
      "metadata": {
        "id": "XJmKEaRUelq2"
      },
      "source": [
        "\n",
        "This was just a small part of Encord Active's capabilities. Use Encord Active app to explore more of your dataset, labels, and model performance via easy to use user interface. With Encord Active UI, you can:\n",
        "\n",
        "* Understand the data and label distribution\n",
        "* Search through data in natural language\n",
        "* Detect exact and near duplicate images\n",
        "* Detect label errors and biases\n",
        "* Gain insights into your model’s weak areas\n",
        "* Generate model explainability reports\n",
        "* Test, validate, and evaluate your models with advanced error analysis\n",
        "\n",
        "\n",
        "<br>\n",
        "\n",
        "![Encord Active UI](https://images.prismic.io/encord/73635182-4f04-4299-a992-a4d383e19765_image2.gif?auto=compress,format)\n",
        "\n",
        "\n"
      ]
    },
    {
      "cell_type": "markdown",
      "metadata": {
        "id": "yI9LwxR4X9ER"
      },
      "source": [
        "🟣 Encord Active is an open source toolkit to prioritize the most valuable image data for labeling to supercharge model performance! **Check out the project on [GitHub](https://github.com/encord-team/encord-active), leave a star 🌟** if you like it. We welcome you to [contribute](https://docs.encord.com/docs/active-contributing) if you find something is missing.\n",
        "\n",
        "---\n",
        "\n",
        "👉 Check out the 📖 [Encord Blog](https://encord.com/blog/) and 📺 [YouTube](https://www.youtube.com/@encord) channel to stay up-to-date with the latest in computer vision, foundation models, active learning, and data-centric AI.\n",
        "\n",
        "---\n",
        "\n",
        "Thanks for now!"
      ]
    },
    {
      "cell_type": "markdown",
      "metadata": {
        "id": "SUyAHyUKPVJn"
      },
      "source": [
        "# ⏭️ Next: Learn how to build custom metrics functions in Encord Active"
      ]
    },
    {
      "cell_type": "markdown",
      "metadata": {
        "id": "hSnIVJSkPVJn"
      },
      "source": [
        "What should you check out next? 👀 Learn how to build custom metrics functions in Encord Active. The Colab notebook will cover code samples and example walkthroughs for:\n",
        "* Defining metric sub-classes.\n",
        "* Executing metric functions.\n",
        "* Investigating custom metrics in the Encord Active UI.\n",
        "\n",
        "### $~~~~~~~~~~~~~~~~~~~~~~~~~~~~~~~~~~~~~~~~~~~~~~~~~~~~~~~~~~~~~~~~~~~~~~~~~~~~~~~~~~~~~~~~~~~~~~~~~~~~~~~~~~~~~~~~~~~~~~~~~~~~~~~~~~~~~~~~~$ *👇*"
      ]
    },
    {
      "cell_type": "markdown",
      "metadata": {
        "id": "GouuGlveX97N"
      },
      "source": [
        "### ⬅️ [*Previous Notebook*](./Encord_Active_Torchvision_Dataset_Exploration.ipynb) $~~~~~~~~~~~~~~~~~~~~~~~~~~~~~~~~~~~~~~~~~~~~~~~~~~~~~~~~~~~~~~~~~~~~~~~~~~~~~~~~~~~~~~~~~~~~~~~~~~~~$ [*Next Notebook*](./Encord_Active_Building_a_Custom_Metric_Function.ipynb) *➡️*\n"
      ]
    }
  ],
  "metadata": {
    "accelerator": "GPU",
    "colab": {
      "collapsed_sections": [
        "yv_kz9VtCJSe"
      ],
      "gpuType": "T4",
      "provenance": []
    },
    "kernelspec": {
      "display_name": "Python 3",
      "name": "python3"
    },
    "language_info": {
      "codemirror_mode": {
        "name": "ipython",
        "version": 3
      },
      "file_extension": ".py",
      "mimetype": "text/x-python",
      "name": "python",
      "nbconvert_exporter": "python",
      "pygments_lexer": "ipython3",
      "version": "3.10.0"
    }
  },
  "nbformat": 4,
  "nbformat_minor": 0
}
