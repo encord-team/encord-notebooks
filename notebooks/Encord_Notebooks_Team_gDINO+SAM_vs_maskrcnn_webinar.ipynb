{
  "cells": [
    {
      "attachments": {},
      "cell_type": "markdown",
      "metadata": {
        "id": "ylvIgFjIDkqZ"
      },
      "source": [
        "<div align=\"center\" dir=\"auto\">\n",
        "<p dir=\"auto\"><a href=\"https://colab.research.google.com/drive/1MKlB0AU8yaCwSvnaAPO3B1sHHP9xcsM1?usp=sharing\" target=\"_parent\"><img src=\"https://colab.research.google.com/assets/colab-badge.svg\" alt=\"Open In Colab\"/></a>\n",
        "<!--- @encord-active-notebooks {download sanbox project} -->\n",
        "<a target=\"_blank\" rel=\"noopener noreferrer nofollow\" href=\"https://camo.githubusercontent.com/1a088dbe61584d1b213517c05e313c765ca127ce21118626b2d0db0b8f573235/68747470733a2f2f696d672e736869656c64732e696f2f6769746875622f6c6963656e73652f656e636f72642d7465616d2f656e636f72642d616374697665\"><img src=\"https://camo.githubusercontent.com/1a088dbe61584d1b213517c05e313c765ca127ce21118626b2d0db0b8f573235/68747470733a2f2f696d672e736869656c64732e696f2f6769746875622f6c6963656e73652f656e636f72642d7465616d2f656e636f72642d616374697665\" alt=\"Licence\" data-canonical-src=\"https://img.shields.io/github/license/encord-team/encord-active\" style=\"max-width: 100%;\"></a>\n",
        "<a href=\"https://www.piwheels.org/project/encord-active/\" rel=\"nofollow\"><img src=\"https://camo.githubusercontent.com/ad0f13bbb94beadb953a46e51cee0db17ade62e4deb8c306e36a7addfa69d18f/68747470733a2f2f696d672e736869656c64732e696f2f707970692f762f656e636f72642d616374697665\" alt=\"PyPi project\" data-canonical-src=\"https://img.shields.io/pypi/v/encord-active\" style=\"max-width: 100%;\"></a>\n",
        "<a target=\"_blank\" rel=\"noopener noreferrer nofollow\" href=\"https://camo.githubusercontent.com/890ceffab6602e1a6ecac875e179b3984708f98b0a91293e6c632752d11bad7e/68747470733a2f2f696d672e736869656c64732e696f2f707970692f707976657273696f6e732f656e636f72642d616374697665\"><img src=\"https://camo.githubusercontent.com/890ceffab6602e1a6ecac875e179b3984708f98b0a91293e6c632752d11bad7e/68747470733a2f2f696d672e736869656c64732e696f2f707970692f707976657273696f6e732f656e636f72642d616374697665\" alt=\"PyPi version\" data-canonical-src=\"https://img.shields.io/pypi/pyversions/encord-active\" style=\"max-width: 100%;\"></a>\n",
        "\n",
        "<a href=\"https://docs.encord.com/active/docs\" rel=\"nofollow\"><img src=\"https://camo.githubusercontent.com/457447b616a4e5aecccd5351fa78d41ce828901e395b935ad2a94d94db75e5d0/68747470733a2f2f696d672e736869656c64732e696f2f62616467652f646f63732d6f6e6c696e652d626c7565\" alt=\"docs\" data-canonical-src=\"https://img.shields.io/badge/docs-online-blue\" style=\"max-width: 100%;\"></a>\n",
        "<a href=\"https://discord.gg/TU6yT7Uvx3\" rel=\"nofollow\"><img src=\"https://camo.githubusercontent.com/927173d1e92c30f5e17607e8d270d681c6a665591ba93475b070f4e7f5d2e0e9/68747470733a2f2f736869656c64732e696f2f62616467652f446973636f72642d636861742d626c75653f6c6f676f3d646973636f7264266c6f676f436f6c6f723d7768697465\" alt=\"&quot;Join us on Discord&quot;\" data-canonical-src=\"https://shields.io/badge/Discord-chat-blue?logo=discord&amp;logoColor=white\" style=\"max-width: 100%;\"></a>\n",
        "\n",
        "</p>\n",
        "<p dir=\"auto\">\n",
        "<a href=\"https://twitter.com/encord_team\" rel=\"nofollow\"><img src=\"https://camo.githubusercontent.com/c7ea37e4d1f0c2e900069152f5990d3bcef4a69c97dede26f08d588958410bd8/68747470733a2f2f696d672e736869656c64732e696f2f747769747465722f666f6c6c6f772f656e636f72645f7465616d3f6c6162656c3d253430656e636f72645f7465616d267374796c653d736f6369616c\" alt=\"Twitter Follow\" data-canonical-src=\"https://img.shields.io/twitter/follow/encord_team?label=%40encord_team&amp;style=social\" style=\"max-width: 100%;\"></a></p>\n",
        "</div>"
      ]
    },
    {
      "attachments": {},
      "cell_type": "markdown",
      "metadata": {
        "id": "GtuzJGZLDw7K"
      },
      "source": [
        "<div align=\"center\">\n",
        "  <p>\n",
        "    <a align=\"center\" href=\"\" target=\"_blank\">\n",
        "      <img\n",
        "        width=\"7232\"\n",
        "        src=\"https://storage.googleapis.com/encord-notebooks/encord_active_notebook_banner.png\">\n",
        "    </a>\n",
        "  </p>\n",
        "</div>"
      ]
    },
    {
      "attachments": {},
      "cell_type": "markdown",
      "metadata": {
        "id": "QPl6cV9UElI6"
      },
      "source": [
        "# 🟣 Encord Notebooks | 🆚 Grounding-DINO+SAM vs. Mask-RCNN"
      ]
    },
    {
      "attachments": {},
      "cell_type": "markdown",
      "metadata": {
        "id": "5PWbl8dwFNKq"
      },
      "source": [
        "## 🏁 Overview"
      ]
    },
    {
      "attachments": {},
      "cell_type": "markdown",
      "metadata": {
        "id": "ZqHaLcV2oq_D"
      },
      "source": [
        "👋 Hi there!\n",
        "\n",
        "In this notebook file, you will get the segmentation predictions of images using Grounding-DINO and Segment Anything Model (SAM).\n",
        "\n",
        "<br>\n",
        "\n",
        "---\n",
        "\n",
        "💡If you want to read more about 🟣 Encord Active checkout our [GitHub](https://github.com/encord-team/encord-active) and [documentation](https://encord-active-docs.web.app/).\n"
      ]
    },
    {
      "attachments": {},
      "cell_type": "markdown",
      "metadata": {
        "id": "o9MBKP_XGBkb"
      },
      "source": [
        " ## 📽️ Complementary Webinar"
      ]
    },
    {
      "attachments": {},
      "cell_type": "markdown",
      "metadata": {
        "id": "OueBGAyOGZmq"
      },
      "source": [
        "[![Are VFMs on par with SOTA - GroundingDIN+SAM vs MaskRCNN](https://storage.googleapis.com/encord-notebooks/ground_dino_sam/Encord_Webinar_Are_VFMs_on_par_with_SOTA.jpeg)](https://encord.com/learning-hub/are-vfms-on-par-with-sota/)\n",
        "\n",
        "With Foundational Models increasing in prominence, Encord's President and Co-Founder sits down with Lead ML Engineer, Frederik to dissect Meta's new Visual Foundation Model, Segment Anything Model (SAM).\n",
        "\n",
        "After combining the model with Grounding-DINO to allow for zero-shot segmentation, the team will compare it to a SOTA Mask-RCNN model to see whether the development of SAM really is revolutionary for segmentation. They discussed:\n",
        "\n",
        "- The rise of VFMs and how they differ from standard models\n",
        "- What Meta's release of DINOv2 means for Grounding-DINO + SAM\n",
        "- How SAM and Grounding-DINO compare to previous segmentation models for performance and predictions\n",
        "- Evaluating model performance using Encord Active\n",
        "\n",
        "Check out [the webinar](https://encord.com/learning-hub/are-vfms-on-par-with-sota/)."
      ]
    },
    {
      "attachments": {},
      "cell_type": "markdown",
      "metadata": {
        "id": "UZFcgyHspbWz"
      },
      "source": [
        "## 📥 Installation and Set Up: Grounding-DINO and Segment Anything Model (SAM)"
      ]
    },
    {
      "cell_type": "code",
      "execution_count": null,
      "metadata": {
        "id": "Dpa3d-3boPFJ"
      },
      "outputs": [],
      "source": [
        "%cd /content #ENTER YOUR WORKING DIRECTORY\n",
        "%git clone https://github.com/IDEA-Research/Grounded-Segment-Anything\n",
        "%cd /content/Grounded-Segment-Anything  # CHANGE TO YOUR WORKING DIRECTORY\n",
        "%pip install -q -r requirements.txt\n",
        "\n",
        "%cd /content/Grounded-Segment-Anything/GroundingDINO # CHANGE TO YOUR WORKING DIRECTORY\n",
        "%pip install -q .\n",
        "%cd /content/Grounded-Segment-Anything/segment_anything # CHANGE TO YOUR WORKING DIRECTORY\n",
        "%pip install -q ."
      ]
    },
    {
      "attachments": {},
      "cell_type": "markdown",
      "metadata": {
        "id": "4Ha9tNEsI5Bb"
      },
      "source": [
        "# 📨 Import all the necessary libraries"
      ]
    },
    {
      "attachments": {},
      "cell_type": "markdown",
      "metadata": {
        "id": "gXFZzGTmI7Az"
      },
      "source": [
        "In this section, you will import the key libraries that will be used for running the code sample. These libraries play a crucial role in executing the code examples and demonstrating the concepts covered in the walkthrough."
      ]
    },
    {
      "cell_type": "code",
      "execution_count": null,
      "metadata": {
        "id": "8zQFnxZ65eUW"
      },
      "outputs": [],
      "source": [
        "import sys\n",
        "\n",
        "# ⚠️ REMEMBER TO CHANGE TO THE CORRECT DIRECTORY 👇\n",
        "\n",
        "module_paths = [\n",
        "    \"/content/Grounded-Segment-Anything/GroundingDINO\",\n",
        "    \"/content/Grounded-Segment-Anything/segment_anything\",\n",
        "]\n",
        "for path in module_paths:\n",
        "    if not path in sys.path:\n",
        "        sys.path.append(path)\n",
        "\n",
        "import json\n",
        "import os\n",
        "import pickle\n",
        "from pathlib import Path\n",
        "\n",
        "import groundingdino.datasets.transforms as T\n",
        "import matplotlib.pyplot as plt\n",
        "import numpy as np\n",
        "import torch\n",
        "\n",
        "from groundingdino.models import build_model\n",
        "from groundingdino.util import box_ops\n",
        "from groundingdino.util.inference import load_image, predict\n",
        "from groundingdino.util.slconfig import SLConfig\n",
        "from groundingdino.util.utils import clean_state_dict, get_phrases_from_posmap\n",
        "from huggingface_hub import hf_hub_download\n",
        "from matplotlib.patches import Rectangle\n",
        "from PIL import Image\n",
        "from segment_anything import SamAutomaticMaskGenerator, SamPredictor, sam_model_registry\n",
        "\n",
        "device = \"cuda\" if torch.cuda.is_available() else \"cpu\""
      ]
    },
    {
      "attachments": {},
      "cell_type": "markdown",
      "metadata": {
        "id": "Q7Qmbn4mJItS"
      },
      "source": [
        "# ⚓ Try GroundingDINO"
      ]
    },
    {
      "attachments": {},
      "cell_type": "markdown",
      "metadata": {
        "id": "La8k0q5B4dgb"
      },
      "source": [
        "\n",
        "Let's start by trying out GroundingDINO.\n",
        "What we will have to do is\n",
        "\n",
        "1. Fetch a test image\n",
        "2. Define what we're searchnig for (the prompt)\n",
        "3. Download the model weights and load the model\n",
        "4. Run model inference on our example image and search query\n",
        "5. Displaying the results"
      ]
    },
    {
      "cell_type": "code",
      "execution_count": null,
      "metadata": {
        "cellView": "form",
        "colab": {
          "base_uri": "https://localhost:8080/",
          "height": 367
        },
        "id": "gpRmy3304VG8",
        "outputId": "9aa361b5-a762-4de4-c6eb-a730e0306c02"
      },
      "outputs": [],
      "source": [
        "#@title ### 💻 Fetch an image for testing\n",
        "# Here, we will use one of the demo images from the GroundedSAM repo\n",
        "dino_image_transform =  transform = T.Compose(\n",
        "    [\n",
        "        T.RandomResize([800], max_size=1333),\n",
        "        T.ToTensor(),\n",
        "        T.Normalize([0.485, 0.456, 0.406], [0.229, 0.224, 0.225]),\n",
        "    ]\n",
        ")\n",
        "\n",
        "def load_image(image_path):\n",
        "    # load image\n",
        "    image_pil = Image.open(image_path).convert(\"RGB\")\n",
        "    image, _ = dino_image_transform(image_pil, None)\n",
        "    return image_pil, image\n",
        "\n",
        "\n",
        "# ⚠️ REMEMBER TO CHANGE TO THE CORRECT DIRECTORY 👇\n",
        "\n",
        "image_path = \"/content/Grounded-Segment-Anything/assets/demo6.jpg\"\n",
        "img, img_tensor = load_image(image_path)\n",
        "\n",
        "plt.imshow(img)\n",
        "_ = plt.axis(\"off\")"
      ]
    },
    {
      "cell_type": "code",
      "execution_count": null,
      "metadata": {
        "cellView": "form",
        "id": "L5QTYuUU51rb"
      },
      "outputs": [],
      "source": [
        "#@title ### 💬 Define query string\n",
        "# Grounding dino suggests to encode classes by joining them with dots.\n",
        "\n",
        "class_descriptions = \".\".join([\"cat\", \"dog\", \"horse\"])"
      ]
    },
    {
      "cell_type": "code",
      "execution_count": null,
      "metadata": {
        "cellView": "form",
        "colab": {
          "base_uri": "https://localhost:8080/"
        },
        "id": "wOOxZYta4P1d",
        "outputId": "cecf4086-5c09-4d08-9b14-8e07b8bad1f6"
      },
      "outputs": [],
      "source": [
        "#@title 📥 Download model weights for GroundingDINO and load model\n",
        "def load_dino_from_hf(device, repo_id=\"ShilongLiu/GroundingDINO\", filename=\"groundingdino_swinb_cogcoor.pth\", ckpt_config_filename=\"GroundingDINO_SwinB.cfg.py\"):\n",
        "    cache_config_file = hf_hub_download(repo_id=repo_id, filename=ckpt_config_filename)\n",
        "\n",
        "    args = SLConfig.fromfile(cache_config_file)\n",
        "    cache_file = hf_hub_download(repo_id=repo_id, filename=filename)\n",
        "    args.device = device\n",
        "    model = build_model(args)\n",
        "    checkpoint = torch.load(cache_file, map_location=\"cpu\")\n",
        "    load_res = model.load_state_dict(clean_state_dict(checkpoint[\"model\"]), strict=False)\n",
        "    _ = model.eval()\n",
        "    return model\n",
        "\n",
        "dino_model = load_dino_from_hf(device)"
      ]
    },
    {
      "cell_type": "code",
      "execution_count": null,
      "metadata": {
        "cellView": "form",
        "colab": {
          "base_uri": "https://localhost:8080/"
        },
        "id": "O4fuq0JEGNzG",
        "outputId": "8bc9a983-c96e-4842-be10-9b74fc4b64a8"
      },
      "outputs": [],
      "source": [
        "#@title ### 🪄 Run GroundingDINO\n",
        "def get_grounding_output(dino_model, image, class_description, device, box_threshold=0.3, text_threshold=0.25):\n",
        "    class_description = class_description.lower()\n",
        "    class_description = class_description.strip()\n",
        "    if not class_description.endswith(\".\"):\n",
        "        class_description = class_description + \".\"\n",
        "\n",
        "    dino_model = dino_model.to(device)\n",
        "    image = image.to(device)\n",
        "    with torch.no_grad():\n",
        "        outputs = dino_model(image[None], captions=[class_description])\n",
        "    logits = outputs[\"pred_logits\"].cpu().sigmoid()[0]  # (nq, 256)\n",
        "    boxes = outputs[\"pred_boxes\"].cpu()[0]  # (nq, 4)\n",
        "    logits.shape[0]\n",
        "\n",
        "    # filter output\n",
        "    logits_filt = logits.clone()\n",
        "    boxes_filt = boxes.clone()\n",
        "    filt_mask = logits_filt.max(dim=1)[0] > box_threshold\n",
        "    logits_filt = logits_filt[filt_mask]  # num_filt, 256\n",
        "    boxes_filt = boxes_filt[filt_mask]  # num_filt, 4\n",
        "    logits_filt.shape[0]\n",
        "\n",
        "    # get phrase\n",
        "    tokenlizer = dino_model.tokenizer\n",
        "    tokenized = tokenlizer(class_description)\n",
        "\n",
        "    # build pred descriptions\n",
        "    pred_phrases = []\n",
        "    for logit, box in zip(logits_filt, boxes_filt):\n",
        "        pred_phrase = get_phrases_from_posmap(logit > text_threshold, tokenized, tokenlizer)\n",
        "        pred_phrases.append(pred_phrase + f\" ({str(logit.max().item())[:4]})\")\n",
        "\n",
        "    return boxes_filt, pred_phrases\n",
        "\n",
        "boxes, phrases = get_grounding_output(dino_model, img_tensor, class_descriptions, device)"
      ]
    },
    {
      "cell_type": "code",
      "execution_count": null,
      "metadata": {
        "cellView": "form",
        "colab": {
          "base_uri": "https://localhost:8080/",
          "height": 367
        },
        "id": "Gqcrq-P3JmBQ",
        "outputId": "b92b0e84-7aab-402e-fc59-3f6735c3fe54"
      },
      "outputs": [],
      "source": [
        "#@title ### 🖼️ Display results\n",
        "def plot_boxes(image_pil, boxes, labels):\n",
        "    W, H = image_pil.size\n",
        "    assert len(boxes) == len(labels), \"boxes and labels must have same length\"\n",
        "\n",
        "    fig, ax = plt.subplots()\n",
        "    ax.imshow(image_pil)\n",
        "    ax.axis(\"off\")\n",
        "\n",
        "    for box, label in zip(boxes, labels):\n",
        "        box = box * torch.Tensor([W, H, W, H])\n",
        "        # from cxcyywh to xywh\n",
        "        box[:2] -= box[2:] / 2\n",
        "        x, y, w, h = box\n",
        "\n",
        "        color = tuple(np.random.random(size=3).tolist())\n",
        "\n",
        "        ax.add_patch(Rectangle((x, y), w, h, color=color, fill=None))\n",
        "        ax.add_patch(Rectangle((x, y), w, h, color=color, fill=color, alpha=0.3))\n",
        "        ax.text(x, y, str(label), color=\"white\", ha=\"left\", va=\"top\")\n",
        "\n",
        "    return ax\n",
        "\n",
        "image_with_box = plot_boxes(img, boxes, phrases)"
      ]
    },
    {
      "attachments": {},
      "cell_type": "markdown",
      "metadata": {
        "id": "VySBRoCpJVEB"
      },
      "source": [
        "# 🪣 Try SAM"
      ]
    },
    {
      "attachments": {},
      "cell_type": "markdown",
      "metadata": {
        "id": "dEV0exVaNE4n"
      },
      "source": [
        "\n",
        "Let's also try out SAM. We will follow similar steps as above - but with the SAM weights and code:\n",
        "\n",
        "1. ~Load image~ 👈 we already did this\n",
        "2. Define what we're searching for (the prompt)\n",
        "3. Download and load the model\n",
        "4. Running model inference\n",
        "5. Displaying results"
      ]
    },
    {
      "cell_type": "code",
      "execution_count": null,
      "metadata": {
        "cellView": "form",
        "colab": {
          "base_uri": "https://localhost:8080/",
          "height": 396
        },
        "id": "mKRD4w81NECY",
        "outputId": "a72ea432-14cf-4d44-bca1-3343715a493b"
      },
      "outputs": [],
      "source": [
        "#@title ### 💬 Define what you're searching for\n",
        "#@markdown We will try out a couple of bounding boxes although SAM offers more than that.\n",
        "#@markdown Let's have a look at the image again - with axis.\n",
        "fig, ax = plt.subplots()\n",
        "ax.imshow(img)\n",
        "\n",
        "#@markdown it seems like some good points would be:\n",
        "boxes = np.array([\n",
        "    (50, 0, 1000, 900),\n",
        "    (1550, 550, 1800, 1150),\n",
        "])\n",
        "\n",
        "def show_box(box, ax, color=\"red\"):\n",
        "    x1, y1, x2, y2 = box\n",
        "    w, h = x2 - x1, y2 - y1\n",
        "    ax.add_patch(Rectangle((x1, y1), w, h, color=color, fill=None))\n",
        "\n",
        "for box in boxes:\n",
        "    show_box(box, ax)\n"
      ]
    },
    {
      "cell_type": "code",
      "execution_count": null,
      "metadata": {
        "cellView": "form",
        "colab": {
          "base_uri": "https://localhost:8080/"
        },
        "id": "o7hthJY7UWq2",
        "outputId": "0de55d9e-67cf-4d1c-b731-12151555f0f5"
      },
      "outputs": [],
      "source": [
        "#@title ### 📥 Download and load SAM\n",
        "%cd /content\n",
        "def load_sam_model(device,  model_file: Path = Path(\"sam_vit_h_4b8939.pth\"), model_type = \"default\"):\n",
        "# def load_sam_model(device,  model_file: Path = Path(\"sam_vit_b_01ec64.pth\"), model_type = \"default\"):\n",
        "    print(model_file)\n",
        "    if not model_file.exists():\n",
        "        # Hack for UTF-8 input encoding\n",
        "        import locale\n",
        "        def getpreferredencoding(do_setlocale = True):\n",
        "            return \"UTF-8\"\n",
        "        locale.getpreferredencoding = getpreferredencoding\n",
        "        # Hack end\n",
        "        # !wget https://dl.fbaipublicfiles.com/segment_anything/\n",
        "        model_name = model_file.name\n",
        "        import subprocess\n",
        "        subprocess.run(f\"wget https://dl.fbaipublicfiles.com/segment_anything/{model_name}\", shell=True)\n",
        "\n",
        "    sam = sam_model_registry[model_type](checkpoint=model_file.name)\n",
        "    sam.to(device=device)\n",
        "    sam_model = SamPredictor(sam)\n",
        "    return sam_model\n",
        "\n",
        "sam_model = load_sam_model(device)"
      ]
    },
    {
      "cell_type": "code",
      "execution_count": null,
      "metadata": {
        "cellView": "form",
        "id": "BjUZl1OzYiPn"
      },
      "outputs": [],
      "source": [
        "#@title ### 🪄 Run inference\n",
        "def get_sam_output(sam_model, img, boxes, device):\n",
        "    img_np = np.asarray(img)\n",
        "    sam_model.set_image(img_np)\n",
        "\n",
        "    boxes_tensor = torch.tensor(boxes, device=device)\n",
        "    boxes_sam = sam_model.transform.apply_boxes_torch(boxes_tensor, img_np.shape[:2])\n",
        "\n",
        "    masks, *_ = sam_model.predict_torch(\n",
        "        point_coords=None,\n",
        "        point_labels=None,\n",
        "        boxes=boxes_sam,\n",
        "        multimask_output=False,\n",
        "    )\n",
        "    return masks.detach().cpu().numpy().squeeze()\n",
        "\n",
        "masks = get_sam_output(sam_model, img, boxes, device)"
      ]
    },
    {
      "cell_type": "code",
      "execution_count": null,
      "metadata": {
        "cellView": "form",
        "colab": {
          "base_uri": "https://localhost:8080/",
          "height": 385
        },
        "id": "djP9sGqCZ0Kh",
        "outputId": "190bd625-6793-4cc4-b763-46e85152fa52"
      },
      "outputs": [],
      "source": [
        "#@title ### 🖼️ Display SAM results\n",
        "def show_mask(mask, ax):\n",
        "    color = np.concatenate([np.random.random(3), np.array([0.6])], axis=0)\n",
        "    h, w = mask.shape[-2:]\n",
        "    mask_image = mask.reshape(h, w, 1) * color.reshape(1, 1, -1)\n",
        "    ax.imshow(mask_image)\n",
        "    return color\n",
        "\n",
        "def plot_masks(img, masks):\n",
        "    fig, ax = plt.subplots()\n",
        "    ax.imshow(img)\n",
        "    ax.axis(\"off\")\n",
        "    for mask in masks:\n",
        "        show_mask(mask, ax)\n",
        "    return fig\n",
        "\n",
        "print(masks.shape)\n",
        "_ = plot_masks(img, masks)"
      ]
    },
    {
      "attachments": {},
      "cell_type": "markdown",
      "metadata": {
        "id": "7446a5FEJ3uO"
      },
      "source": [
        "# 🪢 Combine GroundingDINO and Segment Anything Model (SAM)"
      ]
    },
    {
      "attachments": {},
      "cell_type": "markdown",
      "metadata": {
        "id": "qvqn83O1p4-d"
      },
      "source": [
        "Combining the two models is straight forward. We take the boxes from GroundingDINO and feed them to SAM and voila, you have your predictions."
      ]
    },
    {
      "cell_type": "code",
      "execution_count": null,
      "metadata": {
        "colab": {
          "base_uri": "https://localhost:8080/",
          "height": 458
        },
        "id": "gB2-e5x_p4Ar",
        "outputId": "c0b16c8e-4548-448c-b706-0d84eec455e7"
      },
      "outputs": [],
      "source": [
        "def transform_boxes_to_xyxy(boxes, img_w, img_h):\n",
        "    boxes = boxes * torch.tensor([img_w, img_h, img_w, img_h], device=boxes.device)\n",
        "    boxes[:,:2] -= boxes[:,2:] / 2\n",
        "    boxes[:,2:] = boxes[:,:2] + boxes[:,2:]\n",
        "    return boxes.numpy()\n",
        "\n",
        "def plot_masks_with_labels(img, masks, boxes, labels):\n",
        "    fig, ax = plt.subplots()\n",
        "    ax.imshow(img)\n",
        "    ax.axis(\"off\")\n",
        "\n",
        "    for mask, box, label in zip(masks, boxes, labels):\n",
        "        color = show_mask(mask, ax)\n",
        "        show_box(box, ax, color=color)\n",
        "        x, y, *_ = box\n",
        "        ax.text(x, y, str(label), color=\"white\", ha=\"left\", va=\"top\")\n",
        "\n",
        "@torch.inference_mode()\n",
        "def predict(img_path, class_descriptions):\n",
        "    device = \"cuda\" if torch.cuda.is_available() else \"cpu\"\n",
        "    pil_img, tensor_img = load_image(img_path)\n",
        "    boxes, phrases = get_grounding_output(dino_model, tensor_img, class_descriptions, device)\n",
        "\n",
        "    if not boxes.size:\n",
        "        print(\"Couldn't find any boxes\")\n",
        "        return\n",
        "\n",
        "    boxes = transform_boxes_to_xyxy(boxes, pil_img.size[0], pil_img.size[1])\n",
        "    masks = get_sam_output(sam_model, pil_img, boxes, device)\n",
        "\n",
        "    if masks.sum():\n",
        "        if masks.ndim == 2:\n",
        "            masks = masks[None]\n",
        "        plot_masks_with_labels(pil_img, masks, boxes, phrases)\n",
        "    else:\n",
        "        print(\"No masks detected\")\n",
        "        plot_boxes(pil_img, boxes, phrases)\n",
        "\n",
        "predict(image_path, \"cat.dog.horse\")"
      ]
    },
    {
      "attachments": {},
      "cell_type": "markdown",
      "metadata": {
        "id": "Vkus0VzfJ9_U"
      },
      "source": [
        "# ✅ Wrap up"
      ]
    },
    {
      "attachments": {},
      "cell_type": "markdown",
      "metadata": {
        "id": "F4xUej4kzcko"
      },
      "source": [
        "That's it folks!\n",
        "If you aren't done, please find our [notebook](./Encord_Notebooks_Zero_shot_image_segmentation_with_grounding_dino_and_sam.ipynb) the does the end-2-end experiments include model evaluation on an actual segmentation task."
      ]
    },
    {
      "attachments": {},
      "cell_type": "markdown",
      "metadata": {
        "id": "rgTgJReJz2XY"
      },
      "source": [
        "# 🖼️ Other examples"
      ]
    },
    {
      "cell_type": "code",
      "execution_count": null,
      "metadata": {
        "colab": {
          "base_uri": "https://localhost:8080/",
          "height": 1000
        },
        "id": "c0h-Wv2j3H_k",
        "outputId": "51afc832-5232-480c-a637-857ce9384c3b"
      },
      "outputs": [],
      "source": [
        "# ⚠️ REMEMBER TO CHANGE TO THE CORRECT DIRECTORY 👇\n",
        "\n",
        "files = [\n",
        "    (\"/content/Grounded-Segment-Anything/assets/demo1.jpg\", \"bear.dog.chair.person.\"),\n",
        "    (\"/content/Grounded-Segment-Anything/assets/demo2.jpg\", \"bear.dog.chair.person.\"),\n",
        "    (\"/content/Grounded-Segment-Anything/assets/demo3.jpg\", \"bear.dog.chair.person.\"),\n",
        "    (\"/content/Grounded-Segment-Anything/assets/demo4.jpg\", \"bear.dog.chair.person.\"),\n",
        "    (\"/content/Grounded-Segment-Anything/assets/demo5.jpg\", \"bear.dog.chair.person.\"),\n",
        "]\n",
        "for f, q in files:\n",
        "    predict(f, q)"
      ]
    },
    {
      "attachments": {},
      "cell_type": "markdown",
      "metadata": {
        "id": "A-W7N6ohKGLP"
      },
      "source": [
        "📓This Colab notebook showed you how to build combine the power of GroundingDINO and SAM to produce accurate segmentation masks and bounding boxes that compare with state-of-the-art techniques like [MaskRCNN](https://paperswithcode.com/paper/mask-r-cnn).\n",
        "\n",
        "---\n",
        "\n",
        "🟣 Encord Active is an open-source framework for computer vision model testing, evaluation, and validation. Check out the project on [GitHub](https://github.com/encord-team/encord-active), leave a star 🌟 if you like it, and leave an issue if you find something is missing.\n",
        "\n",
        "---\n",
        "\n",
        "👉 Check out our 📖[blog](https://encord.com/blog/webinar-semantic-visual-search-chatgpt-clip/) and 📺[YouTube](https://www.youtube.com/@encord) channel to stay up-to-date with the latest in computer vision, foundation models, active learning, and data-centric AI."
      ]
    },
    {
      "attachments": {},
      "cell_type": "markdown",
      "metadata": {
        "id": "TnEPPjowLIqZ"
      },
      "source": [
        "### ✨ Want more walthroughs like this? Check out the 🟣 [Encord Notebooks repository](https://github.com/encord-team/encord-notebooks/)."
      ]
    }
  ],
  "metadata": {
    "accelerator": "GPU",
    "colab": {
      "collapsed_sections": [
        "o9MBKP_XGBkb"
      ],
      "provenance": []
    },
    "gpuClass": "standard",
    "kernelspec": {
      "display_name": "Python 3",
      "name": "python3"
    },
    "language_info": {
      "name": "python"
    }
  },
  "nbformat": 4,
  "nbformat_minor": 0
}
