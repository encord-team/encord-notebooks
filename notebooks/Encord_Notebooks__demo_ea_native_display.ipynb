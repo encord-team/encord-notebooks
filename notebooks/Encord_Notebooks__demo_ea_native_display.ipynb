{
  "cells": [
    {
      "cell_type": "markdown",
      "metadata": {
        "id": "nZ6Bu6FLvxYn"
      },
      "source": [
        "<div align=\"center\" dir=\"auto\">\n",
        "<p dir=\"auto\"><a href=\"https://colab.research.google.com/github/encord-team/encord-notebooks/blob/main/notebooks/Encord_Notebooks__demo_ea_native_display.ipynb\" target=\"_parent\"><img src=\"https://colab.research.google.com/assets/colab-badge.svg\" alt=\"Open In Colab\"/></a>\n",
        "<!--- @encord-active-notebooks {download sanbox project} -->\n",
        "<a target=\"_blank\" rel=\"noopener noreferrer nofollow\" href=\"https://camo.githubusercontent.com/1a088dbe61584d1b213517c05e313c765ca127ce21118626b2d0db0b8f573235/68747470733a2f2f696d672e736869656c64732e696f2f6769746875622f6c6963656e73652f656e636f72642d7465616d2f656e636f72642d616374697665\"><img src=\"https://camo.githubusercontent.com/1a088dbe61584d1b213517c05e313c765ca127ce21118626b2d0db0b8f573235/68747470733a2f2f696d672e736869656c64732e696f2f6769746875622f6c6963656e73652f656e636f72642d7465616d2f656e636f72642d616374697665\" alt=\"Licence\" data-canonical-src=\"https://img.shields.io/github/license/encord-team/encord-active\" style=\"max-width: 100%;\"></a>\n",
        "<a href=\"https://www.piwheels.org/project/encord-active/\" rel=\"nofollow\"><img src=\"https://camo.githubusercontent.com/ad0f13bbb94beadb953a46e51cee0db17ade62e4deb8c306e36a7addfa69d18f/68747470733a2f2f696d672e736869656c64732e696f2f707970692f762f656e636f72642d616374697665\" alt=\"PyPi project\" data-canonical-src=\"https://img.shields.io/pypi/v/encord-active\" style=\"max-width: 100%;\"></a>\n",
        "<a target=\"_blank\" rel=\"noopener noreferrer nofollow\" href=\"https://camo.githubusercontent.com/890ceffab6602e1a6ecac875e179b3984708f98b0a91293e6c632752d11bad7e/68747470733a2f2f696d672e736869656c64732e696f2f707970692f707976657273696f6e732f656e636f72642d616374697665\"><img src=\"https://camo.githubusercontent.com/890ceffab6602e1a6ecac875e179b3984708f98b0a91293e6c632752d11bad7e/68747470733a2f2f696d672e736869656c64732e696f2f707970692f707976657273696f6e732f656e636f72642d616374697665\" alt=\"PyPi version\" data-canonical-src=\"https://img.shields.io/pypi/pyversions/encord-active\" style=\"max-width: 100%;\"></a>\n",
        "\n",
        "<a href=\"https://docs.encord.com/docs/active-overview\" rel=\"nofollow\"><img src=\"https://camo.githubusercontent.com/457447b616a4e5aecccd5351fa78d41ce828901e395b935ad2a94d94db75e5d0/68747470733a2f2f696d672e736869656c64732e696f2f62616467652f646f63732d6f6e6c696e652d626c7565\" alt=\"docs\" data-canonical-src=\"https://img.shields.io/badge/docs-online-blue\" style=\"max-width: 100%;\"></a>\n",
        "<a href=\"https://join.slack.com/t/encordactive/shared_invite/zt-1hc2vqur9-Fzj1EEAHoqu91sZ0CX0A7Q\" target=\"_blank\" style=\"text-decoration:none\">\n",
        "      <img alt=\"Join us on Slack\" src=\"https://img.shields.io/badge/Join_Our_Community-4A154B?label=&logo=slack&logoColor=white\"></a>\n",
        "<a href=\"https://github.com/encord-team/encord-notebooks\" rel=\"nofollow\"><img src=\"https://badges.aleen42.com/src/github.svg\" alt=\"&quot;Encord Notebooks;\" data-canonical-src=\"https://badges.aleen42.com/src/github.svg\" style=\"max-width: 100%;\"></a>\n",
        "\n",
        "\n",
        "</p>\n",
        "<p dir=\"auto\">\n",
        "<a href=\"https://twitter.com/encord_team\" rel=\"nofollow\"><img src=\"https://camo.githubusercontent.com/c7ea37e4d1f0c2e900069152f5990d3bcef4a69c97dede26f08d588958410bd8/68747470733a2f2f696d672e736869656c64732e696f2f747769747465722f666f6c6c6f772f656e636f72645f7465616d3f6c6162656c3d253430656e636f72645f7465616d267374796c653d736f6369616c\" alt=\"Twitter Follow\" data-canonical-src=\"https://img.shields.io/twitter/follow/encord_team?label=%40encord_team&amp;style=social\" style=\"max-width: 100%;\"></a></p>\n",
        "</div>"
      ]
    },
    {
      "cell_type": "markdown",
      "metadata": {
        "id": "lZmVMPzW6JQV"
      },
      "source": [
        "# 🟣 Encord Notebooks | 📥 Explore Encord Active's `0.1.70` Native UI"
      ]
    },
    {
      "cell_type": "markdown",
      "metadata": {
        "id": "3LgvE_e362FL"
      },
      "source": [
        "## 🏁 Overview"
      ]
    },
    {
      "cell_type": "markdown",
      "metadata": {
        "id": "Yej19g4c64t8"
      },
      "source": [
        "👋 Hi there! This notebook gives you a quick way to test Encord Active with a sandbox project and without installing anything locally.\n",
        "\n",
        "This 📒 notebook will cover:\n",
        "* Install the Encord Active `0.1.70` release.\n",
        "* Launch the UI with a `quickstart` project.\n",
        "* Explore the all-new Encord Active UI 🤩.\n",
        "\n",
        "<br>\n",
        "\n",
        "\n",
        "💡If you want to learn more about 🟣 Encord Active checkout our [GitHub](https://github.com/encord-team/encord-active) and [documentation](https://encord-active-docs.web.app/)."
      ]
    },
    {
      "cell_type": "markdown",
      "metadata": {
        "id": "jFRLWcZg-EVz"
      },
      "source": [
        "## 📥 Install Encord Active `0.1.70` Release\n"
      ]
    },
    {
      "cell_type": "code",
      "execution_count": null,
      "metadata": {
        "id": "iHDRDFkaeBNh"
      },
      "outputs": [],
      "source": [
        "!python -m pip install encord-active==0.1.70"
      ]
    },
    {
      "cell_type": "code",
      "execution_count": null,
      "metadata": {
        "id": "QIexBBIw15V_"
      },
      "outputs": [],
      "source": [
        "!encord-active --version"
      ]
    },
    {
      "cell_type": "code",
      "execution_count": null,
      "metadata": {
        "id": "19mNpYvVes1R"
      },
      "outputs": [],
      "source": [
        "!encord-active download --project-name quickstart"
      ]
    },
    {
      "cell_type": "code",
      "execution_count": null,
      "metadata": {
        "id": "qctxDtWReD7X"
      },
      "outputs": [],
      "source": [
        "from google.colab.output import eval_js\n",
        "from IPython.display import Javascript\n",
        "\n",
        "# Trick to be able to show the FE in a cell output.\n",
        "def show_url(url: str, height=400):\n",
        "  display(Javascript(\"\"\"\n",
        "  (async ()=>{{\n",
        "    fm = document.createElement('iframe')\n",
        "    fm.src = '%s'\n",
        "    fm.width = '95%%'\n",
        "    fm.height = '%d'\n",
        "    fm.frameBorder = 0\n",
        "    document.body.append(fm)\n",
        "  }})();\n",
        "  \"\"\" % (url, height) ))\n",
        "\n",
        "# Proxy for FE and BE\n",
        "fe_url = eval_js(\"google.colab.kernel.proxyPort(8000)\")\n",
        "be_url = eval_js(\"google.colab.kernel.proxyPort(8001)\")\n",
        "\n",
        "# Start encord active in the background\n",
        "get_ipython().system_raw(f\"ENV=packaged API_URL='{be_url}' ALLOWED_ORIGIN='{fe_url}' encord-active start &\")"
      ]
    },
    {
      "cell_type": "code",
      "execution_count": null,
      "metadata": {
        "id": "Y_ftsgzvf0WX"
      },
      "outputs": [],
      "source": [
        "# Show EA in a cell\n",
        "show_url(fe_url)"
      ]
    },
    {
      "cell_type": "code",
      "execution_count": null,
      "metadata": {
        "id": "596xvqv6hWaz"
      },
      "outputs": [],
      "source": [
        "!echo \"Alternatively use this link: {fe_url} to open the fronted in a new tab\""
      ]
    },
    {
      "cell_type": "markdown",
      "metadata": {
        "id": "-2QFNYviDB4Q"
      },
      "source": [
        "# ✅ Wrap up"
      ]
    },
    {
      "cell_type": "markdown",
      "metadata": {
        "id": "pPE2ppItDE0M"
      },
      "source": [
        "\n",
        "📓This Colab notebook showed you how to download a quickstart project with Encord Active. If you would like to learn more, check out our [documentation](https://docs.encord.com/docs/active-overview) to find more concrete workflow and guides.\n",
        "\n",
        "---\n",
        "\n",
        "🟣 Encord Active is an open source tool in its early stage! Check out the project on [GitHub](https://github.com/encord-team/encord-active), leave a star 🌟 if you like it, and leave an issue if you find something is missing.\n",
        "\n",
        "---\n",
        "\n",
        "👉 Check out our 📖[blog](https://encord.com/blog/) and 📺[YouTube](https://www.youtube.com/@encord) channel to stay up-to-date with the latest in computer vision, foundation models, active learning, and data-centric AI.\n",
        "\n"
      ]
    }
  ],
  "metadata": {
    "colab": {
      "provenance": []
    },
    "kernelspec": {
      "display_name": "Python 3",
      "name": "python3"
    },
    "language_info": {
      "name": "python"
    }
  },
  "nbformat": 4,
  "nbformat_minor": 0
}
