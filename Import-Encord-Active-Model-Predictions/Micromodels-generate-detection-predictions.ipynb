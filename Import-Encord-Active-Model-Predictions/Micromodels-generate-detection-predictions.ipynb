{
 "cells": [
  {
   "cell_type": "markdown",
   "id": "f5c93a7a-b96f-4af5-8679-0e41c0049b3a",
   "metadata": {},
   "source": [
    "# Generate Encord Active Model Predictions Using Encord Annotate Micro-Models"
   ]
  },
  {
   "cell_type": "markdown",
   "id": "4ba32d53-3163-4805-b0a7-c09e3e092a8c",
   "metadata": {},
   "source": [
    "#### Note: Ontologies of the Encord Active and Encord Annotate should be the same"
   ]
  },
  {
   "cell_type": "markdown",
   "id": "88497141-7594-4c5a-b868-06e0f08d909d",
   "metadata": {},
   "source": [
    "## Set parameters"
   ]
  },
  {
   "cell_type": "code",
   "execution_count": null,
   "id": "0a5c2d5d-c3f5-41ad-8180-0881aa34b673",
   "metadata": {},
   "outputs": [],
   "source": [
    "ENCORD_ACTIVE_PROJECT_PATH='/path/to/local/encord_active/project'\n",
    "ENCORD_SSH_KEY_PATH='ENCORD_SSH_KEY_PATH'\n",
    "ENCORD_PROJECT_HASH='ENCORD_PROJECT_HASH'\n",
    "ENCORD_MODEL_ITERATION_HASH='ENCORD_MODEL_ITERATION_HASH'\n",
    "\n",
    "BATCH_SIZE=24\n",
    "CONFIDENCE_THRESHOLD=0.6\n",
    "IOU_THRESHOLD=0.3"
   ]
  },
  {
   "cell_type": "markdown",
   "id": "3e81909a-901a-413e-b390-7eea91ed8062",
   "metadata": {},
   "source": [
    "## Import libraries"
   ]
  },
  {
   "cell_type": "code",
   "execution_count": null,
   "id": "281f2583-f422-4667-8661-b0ad982148bf",
   "metadata": {},
   "outputs": [],
   "source": [
    "import os\n",
    "import json\n",
    "import pickle\n",
    "from pathlib import Path\n",
    "\n",
    "from encord import EncordUserClient, Project\n",
    "from tqdm import tqdm\n",
    "\n",
    "from encord_active.lib.common.iterator import DatasetIterator\n",
    "from encord_active.lib.db.predictions import (\n",
    "    BoundingBox,\n",
    "    Format,\n",
    "    ObjectDetection,\n",
    "    Prediction,\n",
    ")\n",
    "from encord_active.lib.project.project_file_structure import ProjectFileStructure"
   ]
  },
  {
   "cell_type": "code",
   "execution_count": null,
   "id": "64d4783b-48f8-409f-b76d-d6022f22aa4c",
   "metadata": {},
   "outputs": [],
   "source": [
    "user_client = EncordUserClient.create_with_ssh_private_key(Path(ENCORD_SSH_KEY_PATH).expanduser().read_text())\n",
    "project: Project = user_client.get_project(ENCORD_PROJECT_HASH)\n",
    "\n",
    "ea_project_fs: ProjectFileStructure = ProjectFileStructure(ENCORD_ACTIVE_PROJECT_PATH)\n",
    "iterator = DatasetIterator(ea_project_fs.project_dir)\n",
    "\n",
    "ontology = json.loads(ea_project_fs.ontology.read_text(encoding=\"utf-8\"))\n",
    "ontology_featureHashes = [obj[\"featureNodeHash\"] for obj in ontology.get(\"objects\")]\n",
    "\n",
    "predictions_to_store = []\n",
    "file_paths = []\n",
    "data_units = []\n",
    "\n",
    "pbar = tqdm(total=iterator.length, desc=\"Running inference\", leave=True)\n",
    "for counter, (data_unit, _) in enumerate(iterator.iterate()):\n",
    "\n",
    "    file_paths.append(\n",
    "        next(\n",
    "            ea_project_fs.label_row_structure(iterator.label_hash).iter_data_unit(data_unit[\"data_hash\"])\n",
    "        ).path.as_posix()\n",
    "    )\n",
    "    data_units.append(data_unit)\n",
    "\n",
    "    if (counter + 1) % BATCH_SIZE == 0 or counter + 1 == iterator.length:\n",
    "        inference_results = project.model_inference(\n",
    "            ENCORD_MODEL_ITERATION_HASH,\n",
    "            file_paths=file_paths,\n",
    "            conf_thresh=CONFIDENCE_THRESHOLD,\n",
    "            iou_thresh=IOU_THRESHOLD,\n",
    "        )\n",
    "\n",
    "        for inference_result, du in zip(inference_results, data_units):\n",
    "            for obj in inference_result[\"predictions\"][\"0\"][\"objects\"]:\n",
    "                \n",
    "                if obj[\"shape\"] != \"bounding_box\":\n",
    "                    print(f\"prediction is not in `bbox` type (it is in {obj['shape']} type), skipping...\")\n",
    "                    continue\n",
    "                \n",
    "                if obj[\"featureHash\"] not in ontology_featureHashes:\n",
    "                    print(\n",
    "                        f\"'{obj['name']}' with featureHash '{obj['featureHash']}' is not available in the ontology of\"\n",
    "                        f\" the Encord Active project.\"\n",
    "                    )\n",
    "                    continue\n",
    "\n",
    "                prediction = Prediction(\n",
    "                    data_hash=du[\"data_hash\"],\n",
    "                    confidence=obj[\"confidence\"],\n",
    "                    object=ObjectDetection(\n",
    "                        format=Format.BOUNDING_BOX,\n",
    "                        data=BoundingBox(\n",
    "                            x=obj[\"bounding_box\"][\"x\"],\n",
    "                            y=obj[\"bounding_box\"][\"y\"],\n",
    "                            w=obj[\"bounding_box\"][\"w\"],\n",
    "                            h=obj[\"bounding_box\"][\"h\"],\n",
    "                        ),\n",
    "                        feature_hash=obj[\"featureHash\"],\n",
    "                    ),\n",
    "                )\n",
    "                predictions_to_store.append(prediction)\n",
    "\n",
    "        file_paths = []\n",
    "        data_units = []\n",
    "\n",
    "    pbar.update(1)\n",
    "\n",
    "prediction_file = f\"predictions_{ENCORD_MODEL_ITERATION_HASH[:8]}.pkl\"\n",
    "with open((ea_project_fs.project_dir / prediction_file), \"wb\") as f:\n",
    "    pickle.dump(predictions_to_store, f)"
   ]
  },
  {
   "cell_type": "code",
   "execution_count": null,
   "id": "c0fa832b-3722-4a2f-a79b-8c98723b5d8f",
   "metadata": {},
   "outputs": [],
   "source": [
    "os.chdir(ea_project_fs.project_dir.as_posix()) \n",
    "! encord-active import predictions {prediction_file}\n",
    "\n",
    "print(\"\\n✅︎ Predictions are imported successfully!\")"
   ]
  }
 ],
 "metadata": {
  "kernelspec": {
   "display_name": "Python 3 (ipykernel)",
   "language": "python",
   "name": "python3"
  },
  "language_info": {
   "codemirror_mode": {
    "name": "ipython",
    "version": 3
   },
   "file_extension": ".py",
   "mimetype": "text/x-python",
   "name": "python",
   "nbconvert_exporter": "python",
   "pygments_lexer": "ipython3",
   "version": "3.10.8"
  }
 },
 "nbformat": 4,
 "nbformat_minor": 5
}
