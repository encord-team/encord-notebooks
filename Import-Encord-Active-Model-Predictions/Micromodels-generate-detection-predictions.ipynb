{
 "cells": [
  {
   "attachments": {},
   "cell_type": "markdown",
   "id": "d9d1f76d",
   "metadata": {},
   "source": [
    "<div align=\"center\" dir=\"auto\">\n",
    "<p dir=\"auto\"><a href=\"https://colab.research.google.com/drive/1nwdSHFonQBEYEhywLfQPkMMya0xTOjdc?usp=sharing\" target=\"_parent\"><img src=\"https://colab.research.google.com/assets/colab-badge.svg\" alt=\"Open In Colab\"/></a>\n",
    "<a target=\"_blank\" rel=\"noopener noreferrer nofollow\" href=\"https://camo.githubusercontent.com/1a088dbe61584d1b213517c05e313c765ca127ce21118626b2d0db0b8f573235/68747470733a2f2f696d672e736869656c64732e696f2f6769746875622f6c6963656e73652f656e636f72642d7465616d2f656e636f72642d616374697665\"><img src=\"https://camo.githubusercontent.com/1a088dbe61584d1b213517c05e313c765ca127ce21118626b2d0db0b8f573235/68747470733a2f2f696d672e736869656c64732e696f2f6769746875622f6c6963656e73652f656e636f72642d7465616d2f656e636f72642d616374697665\" alt=\"Licence\" data-canonical-src=\"https://img.shields.io/github/license/encord-team/encord-active\" style=\"max-width: 100%;\"></a>\n",
    "<a href=\"https://www.piwheels.org/project/encord-active/\" rel=\"nofollow\"><img src=\"https://camo.githubusercontent.com/ad0f13bbb94beadb953a46e51cee0db17ade62e4deb8c306e36a7addfa69d18f/68747470733a2f2f696d672e736869656c64732e696f2f707970692f762f656e636f72642d616374697665\" alt=\"PyPi project\" data-canonical-src=\"https://img.shields.io/pypi/v/encord-active\" style=\"max-width: 100%;\"></a>\n",
    "<a target=\"_blank\" rel=\"noopener noreferrer nofollow\" href=\"https://camo.githubusercontent.com/890ceffab6602e1a6ecac875e179b3984708f98b0a91293e6c632752d11bad7e/68747470733a2f2f696d672e736869656c64732e696f2f707970692f707976657273696f6e732f656e636f72642d616374697665\"><img src=\"https://camo.githubusercontent.com/890ceffab6602e1a6ecac875e179b3984708f98b0a91293e6c632752d11bad7e/68747470733a2f2f696d672e736869656c64732e696f2f707970692f707976657273696f6e732f656e636f72642d616374697665\" alt=\"PyPi version\" data-canonical-src=\"https://img.shields.io/pypi/pyversions/encord-active\" style=\"max-width: 100%;\"></a>\n",
    "\n",
    "<a href=\"https://docs.encord.com/active/docs\" rel=\"nofollow\"><img src=\"https://camo.githubusercontent.com/457447b616a4e5aecccd5351fa78d41ce828901e395b935ad2a94d94db75e5d0/68747470733a2f2f696d672e736869656c64732e696f2f62616467652f646f63732d6f6e6c696e652d626c7565\" alt=\"docs\" data-canonical-src=\"https://img.shields.io/badge/docs-online-blue\" style=\"max-width: 100%;\"></a>\n",
    "<a href=\"https://discord.gg/TU6yT7Uvx3\" rel=\"nofollow\"><img src=\"https://camo.githubusercontent.com/927173d1e92c30f5e17607e8d270d681c6a665591ba93475b070f4e7f5d2e0e9/68747470733a2f2f736869656c64732e696f2f62616467652f446973636f72642d636861742d626c75653f6c6f676f3d646973636f7264266c6f676f436f6c6f723d7768697465\" alt=\"&quot;Join us on Discord&quot;\" data-canonical-src=\"https://shields.io/badge/Discord-chat-blue?logo=discord&amp;logoColor=white\" style=\"max-width: 100%;\"></a>\n",
    "<a href=\"https://github.com/encord-team/encord-notebooks\" rel=\"nofollow\"><img src=\"https://badges.aleen42.com/src/github.svg\" alt=\"&quot;Encord Notebooks;\" data-canonical-src=\"https://badges.aleen42.com/src/github.svg\" style=\"max-width: 100%;\"></a>\n",
    "\n",
    "\n",
    "</p>\n",
    "<p dir=\"auto\">\n",
    "<a href=\"https://twitter.com/encord_team\" rel=\"nofollow\"><img src=\"https://camo.githubusercontent.com/c7ea37e4d1f0c2e900069152f5990d3bcef4a69c97dede26f08d588958410bd8/68747470733a2f2f696d672e736869656c64732e696f2f747769747465722f666f6c6c6f772f656e636f72645f7465616d3f6c6162656c3d253430656e636f72645f7465616d267374796c653d736f6369616c\" alt=\"Twitter Follow\" data-canonical-src=\"https://img.shields.io/twitter/follow/encord_team?label=%40encord_team&amp;style=social\" style=\"max-width: 100%;\"></a></p>\n",
    "</div>"
   ]
  },
  {
   "attachments": {},
   "cell_type": "markdown",
   "id": "0b999aec",
   "metadata": {},
   "source": [
    "<div align=\"center\">\n",
    "  <p>\n",
    "    <a align=\"center\" href=\"\" target=\"_blank\">\n",
    "      <img\n",
    "        width=\"7232\"\n",
    "        src=\"https://storage.googleapis.com/encord-notebooks/encord_active_notebook_banner.png\">\n",
    "    </a>\n",
    "  </p>\n",
    "</div>"
   ]
  },
  {
   "attachments": {},
   "cell_type": "markdown",
   "id": "f5c93a7a-b96f-4af5-8679-0e41c0049b3a",
   "metadata": {},
   "source": [
    "# 🟣 Encord Notebooks | 📦 Generate Encord Active Model Object Detection Boxes Using Encord Annotate Micro-Models"
   ]
  },
  {
   "attachments": {},
   "cell_type": "markdown",
   "id": "a1fb7b62",
   "metadata": {},
   "source": [
    "## 🏁 Overview"
   ]
  },
  {
   "attachments": {},
   "cell_type": "markdown",
   "id": "4ba32d53-3163-4805-b0a7-c09e3e092a8c",
   "metadata": {},
   "source": [
    "👋 Hi there!\n",
    "\n",
    "Do you know how to build micro-models? Great! In this short notebook walkthrough, learn how to generate bounding boxes with 🟣 Encord Active using Micro-Models in Encord Annotate.\n",
    "\n",
    "> Note: [Ontologies](https://docs.encord.com/ontologies/use/) of the Encord Active and Encord Annotate should be the same\n",
    "\n",
    "<br>\n",
    "\n",
    "💡If you want to read more about 🟣 Encord Active checkout our [GitHub](https://github.com/encord-team/encord-active) and [documentation](https://encord-active-docs.web.app/).\n"
   ]
  },
  {
   "attachments": {},
   "cell_type": "markdown",
   "id": "88497141-7594-4c5a-b868-06e0f08d909d",
   "metadata": {},
   "source": [
    "## 📐 Set parameters"
   ]
  },
  {
   "cell_type": "code",
   "execution_count": null,
   "id": "0a5c2d5d-c3f5-41ad-8180-0881aa34b673",
   "metadata": {},
   "outputs": [],
   "source": [
    "ENCORD_ACTIVE_PROJECT_PATH='</path/to/local/encord_active/project>' # Enter the path to your encord project\n",
    "\n",
    "# Store your environment variables\n",
    "ENCORD_SSH_KEY_PATH='ENCORD_SSH_KEY_PATH'\n",
    "ENCORD_PROJECT_HASH='ENCORD_PROJECT_HASH'\n",
    "ENCORD_MODEL_ITERATION_HASH='ENCORD_MODEL_ITERATION_HASH'\n",
    "\n",
    "BATCH_SIZE=24\n",
    "CONFIDENCE_THRESHOLD=0.6\n",
    "IOU_THRESHOLD=0.3"
   ]
  },
  {
   "attachments": {},
   "cell_type": "markdown",
   "id": "3e81909a-901a-413e-b390-7eea91ed8062",
   "metadata": {},
   "source": [
    "## 📥 Import libraries"
   ]
  },
  {
   "attachments": {},
   "cell_type": "markdown",
   "id": "31a3cc64",
   "metadata": {},
   "source": [
    "In this section, you will import the key libraries that will be used for generating the bounding boxes. These libraries play a crucial role in executing the code examples and demonstrating the concepts covered in the walkthrough."
   ]
  },
  {
   "cell_type": "code",
   "execution_count": null,
   "id": "281f2583-f422-4667-8661-b0ad982148bf",
   "metadata": {},
   "outputs": [],
   "source": [
    "import os\n",
    "import json\n",
    "import pickle\n",
    "from pathlib import Path\n",
    "\n",
    "from encord import EncordUserClient, Project\n",
    "from tqdm import tqdm\n",
    "\n",
    "from encord_active.lib.common.iterator import DatasetIterator\n",
    "from encord_active.lib.db.predictions import (\n",
    "    BoundingBox,\n",
    "    Format,\n",
    "    ObjectDetection,\n",
    "    Prediction,\n",
    ")\n",
    "from encord_active.lib.project.project_file_structure import ProjectFileStructure"
   ]
  },
  {
   "attachments": {},
   "cell_type": "markdown",
   "id": "dfb10f25",
   "metadata": {},
   "source": [
    "Now, you will generate bounding boxes for an Encord Active project using micro-models. You will establish a connection to the Encord Active platform using the SSH private key you stored as an env variable. Then, retrieve the project information using the project hash. and load the ontology information from the project.\n",
    "\n",
    "Use an iterator to iterate over the dataset in your project, and use the micro-model in Encord Annotate to generate segmentation masks. The masks will be processed, filtered based on shape and ontology availability, and stored as `Prediction` objects. Finally, the box co-ordinates/points (predictions) will be saved to a pickle file and imported into the Encord Active platform so you can evaluate the quality."
   ]
  },
  {
   "cell_type": "code",
   "execution_count": null,
   "id": "64d4783b-48f8-409f-b76d-d6022f22aa4c",
   "metadata": {},
   "outputs": [],
   "source": [
    "# Establish a connection to the Encord Active platform using SSH private key\n",
    "user_client = EncordUserClient.create_with_ssh_private_key(Path(ENCORD_SSH_KEY_PATH).expanduser().read_text())\n",
    "\n",
    "# Retrieve the Encord Active project\n",
    "project: Project = user_client.get_project(ENCORD_PROJECT_HASH)\n",
    "\n",
    "# Set up the project file structure for the Encord Active project\n",
    "ea_project_fs: ProjectFileStructure = ProjectFileStructure(ENCORD_ACTIVE_PROJECT_PATH)\n",
    "\n",
    "# Create a dataset iterator for the project directory\n",
    "iterator = DatasetIterator(ea_project_fs.project_dir)\n",
    "\n",
    "# Load the ontology information from the project\n",
    "ontology = json.loads(ea_project_fs.ontology.read_text(encoding=\"utf-8\"))\n",
    "ontology_featureHashes = [obj[\"featureNodeHash\"] for obj in ontology.get(\"objects\")]\n",
    "\n",
    "# Initialize lists to store predictions, file paths, and data units\n",
    "predictions_to_store = []\n",
    "file_paths = []\n",
    "data_units = []\n",
    "\n",
    "pbar = tqdm(total=iterator.length, desc=\"Running inference\", leave=True)\n",
    "\n",
    "# Iterate over the dataset\n",
    "for counter, (data_unit, _) in enumerate(iterator.iterate()):\n",
    "\n",
    "    # Append the file path corresponding to the data unit\n",
    "    file_paths.append(\n",
    "        next(\n",
    "            ea_project_fs.label_row_structure(iterator.label_hash).iter_data_unit(data_unit[\"data_hash\"])\n",
    "        ).path.as_posix()\n",
    "    )\n",
    "    data_units.append(data_unit)\n",
    "\n",
    "    # Perform inference in batches or at the end of the iteration\n",
    "    if (counter + 1) % BATCH_SIZE == 0 or counter + 1 == iterator.length:\n",
    "\n",
    "        # Perform model inference using the Encord Active project and specified parameters\n",
    "        inference_results = project.model_inference(\n",
    "            ENCORD_MODEL_ITERATION_HASH,\n",
    "            file_paths=file_paths,\n",
    "            conf_thresh=CONFIDENCE_THRESHOLD,\n",
    "            iou_thresh=IOU_THRESHOLD,\n",
    "        )\n",
    "\n",
    "        # Process the inference results for each data unit\n",
    "        for inference_result, du in zip(inference_results, data_units):\n",
    "\n",
    "            # Iterate over the predicted objects\n",
    "            for obj in inference_result[\"predictions\"][\"0\"][\"objects\"]:\n",
    "                \n",
    "                # Skip predictions that are not in the 'bounding_box' shape\n",
    "                if obj[\"shape\"] != \"bounding_box\":\n",
    "                    print(f\"prediction is not in `bbox` type (it is in {obj['shape']} type), skipping...\")\n",
    "                    continue\n",
    "                \n",
    "                # Skip predictions that are not present in the ontology\n",
    "                if obj[\"featureHash\"] not in ontology_featureHashes:\n",
    "                    print(\n",
    "                        f\"'{obj['name']}' with featureHash '{obj['featureHash']}' is not available in the ontology of\"\n",
    "                        f\" the Encord Active project.\"\n",
    "                    )\n",
    "                    continue\n",
    "\n",
    "                # Create a Prediction object with bounding box information        \n",
    "                prediction = Prediction(\n",
    "                    data_hash=du[\"data_hash\"],\n",
    "                    confidence=obj[\"confidence\"],\n",
    "                    object=ObjectDetection(\n",
    "                        format=Format.BOUNDING_BOX,\n",
    "                        data=BoundingBox(\n",
    "                            x=obj[\"bounding_box\"][\"x\"],\n",
    "                            y=obj[\"bounding_box\"][\"y\"],\n",
    "                            w=obj[\"bounding_box\"][\"w\"],\n",
    "                            h=obj[\"bounding_box\"][\"h\"],\n",
    "                        ),\n",
    "                        feature_hash=obj[\"featureHash\"],\n",
    "                    ),\n",
    "                )\n",
    "                predictions_to_store.append(prediction)\n",
    "        \n",
    "        # Clear the file paths and data units lists for the next batch\n",
    "        file_paths = []\n",
    "        data_units = []\n",
    "\n",
    "    pbar.update(1)\n",
    "\n",
    "# Define the filename for the prediction pickle file\n",
    "prediction_file = f\"predictions_{ENCORD_MODEL_ITERATION_HASH[:8]}.pkl\"\n",
    "\n",
    "# Save the predictions to a pickle file\n",
    "with open((ea_project_fs.project_dir / prediction_file), \"wb\") as f:\n",
    "    pickle.dump(predictions_to_store, f)"
   ]
  },
  {
   "cell_type": "code",
   "execution_count": null,
   "id": "c0fa832b-3722-4a2f-a79b-8c98723b5d8f",
   "metadata": {},
   "outputs": [],
   "source": [
    "# Change the current working directory to the project directory\n",
    "os.chdir(ea_project_fs.project_dir.as_posix())\n",
    "\n",
    "# Import the predictions file into Encord Active\n",
    "! encord-active import predictions {prediction_file}\n",
    "\n",
    "print(\"\\n✅︎ Predictions are imported successfully!\")"
   ]
  },
  {
   "attachments": {},
   "cell_type": "markdown",
   "id": "c90ddae8",
   "metadata": {},
   "source": [
    "# ✅ Wrap up"
   ]
  },
  {
   "attachments": {},
   "cell_type": "markdown",
   "id": "ee272d7a",
   "metadata": {},
   "source": [
    "\n",
    "📓This Colab notebook showed you how to generate detection boxes with 🟣 Encord Active using Micro-Models in Encord Annotate.\n",
    "\n",
    "---\n",
    "\n",
    "🟣 Encord Active is an open-source framework for computer vision model testing, evaluation, and validation. Check out the project on [GitHub](https://github.com/encord-team/encord-active), leave a star 🌟 if you like it, and leave an issue if you find something is missing.\n",
    "\n",
    "---\n",
    "\n",
    "👉 Check out our 📖[blog](https://encord.com/blog/webinar-semantic-visual-search-chatgpt-clip/) and 📺[YouTube](https://www.youtube.com/@encord) channel to stay up-to-date with the latest in computer vision, foundation models, active learning, and data-centric AI.\n",
    "\n"
   ]
  },
  {
   "attachments": {},
   "cell_type": "markdown",
   "id": "4d9a4a7d",
   "metadata": {},
   "source": [
    "### ✨ Want more walthroughs like this? Check out the 🟣 [Encord Notebooks repository](https://github.com/encord-team/encord-notebooks/)."
   ]
  }
 ],
 "metadata": {
  "kernelspec": {
   "display_name": "Python 3 (ipykernel)",
   "language": "python",
   "name": "python3"
  },
  "language_info": {
   "codemirror_mode": {
    "name": "ipython",
    "version": 3
   },
   "file_extension": ".py",
   "mimetype": "text/x-python",
   "name": "python",
   "nbconvert_exporter": "python",
   "pygments_lexer": "ipython3",
   "version": "3.10.8"
  }
 },
 "nbformat": 4,
 "nbformat_minor": 5
}
